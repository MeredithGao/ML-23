{
  "nbformat": 4,
  "nbformat_minor": 0,
  "metadata": {
    "colab": {
      "provenance": [],
      "collapsed_sections": []
    },
    "kernelspec": {
      "display_name": "Python 3",
      "name": "python3"
    }
  },
  "cells": [
    {
      "cell_type": "markdown",
      "metadata": {
        "id": "QIO3UIZe6wsZ"
      },
      "source": [
        "# CS 475 HW 2 Programming\n",
        "\n",
        "Name: INSERT YOUR NAME HERE1 & NAME2\n"
      ]
    },
    {
      "cell_type": "code",
      "metadata": {
        "id": "4gS022EH9_-p"
      },
      "source": [
        "# imports\n",
        "import pandas as pd\n",
        "import numpy as np\n",
        "from IPython.display import HTML, Math\n",
        "display(HTML(\"<script src='https://cdnjs.cloudflare.com/ajax/libs/mathjax/2.7.3/\"\n",
        "             \"latest.js?config=default'></script>\"))\n",
        "\n",
        "NOTEBOOK = 1\n",
        "np.random.seed(1000)"
      ],
      "execution_count": null,
      "outputs": []
    },
    {
      "cell_type": "markdown",
      "metadata": {
        "id": "pjPfIJ5G52It"
      },
      "source": [
        "# Section 1: Logistic Regression [10 points]\n",
        "\n"
      ]
    },
    {
      "cell_type": "markdown",
      "metadata": {
        "id": "YpOFE4hMEy8X"
      },
      "source": [
        "In this section, we are going to implement the logistic regression model with L2 regularization using gradient descent.\n"
      ]
    },
    {
      "cell_type": "markdown",
      "metadata": {
        "id": "PHAZS9JsbVGs"
      },
      "source": [
        "Your class must implement the following API (some functions has been implemented for you):\n",
        "\n",
        "* `__init__(alpha, reg_lambda, epsilon, max_numIters, init_theta)`: the \n",
        "constructor, which takes in $\\alpha$, $\\lambda$, $\\epsilon$, and max_numIters as arguments. init_theta is an optional parameter to set the initial value of theta.\n",
        "\n",
        "* `fit(X,y)`: train the classifier from labeled data $(X,y)$. $X$ and $y$ are Pandas data frames.\n",
        "\n",
        "* `predict(X)`: return a predicted class for each instance in the Pandas data frame $X$\n",
        "\n",
        "* `predict_proba(X)`: return class probabilities for each instance in the Pandas data frame $X$\n",
        "\n",
        "* `compute_cost(theta, X, y, reg_lambda)`:  computes the logistic regression objective function for the given values of $\\theta$, $X$, $y$, and $\\lambda$ (``lambda'' is a keyword in python, so we must call the regularization parameter something different). $X$ and $y$ are numpy matrices.\n",
        "\n",
        "* `compute_gradient(theta, X, y, reg_lambda)`:  computes the $d$-dimensional gradient of the logistic regression objective for the given values of $\\theta$, $X$, $y$, and reg_lambda=$\\lambda$. $X$ and $y$ are numpy matrices.\n",
        "\n",
        "\n",
        "* `sigmoid(z)`:  returns the sigmoid function of $z$\n",
        "\n",
        "\n",
        "Note that these methods have already been defined correctly for you inLogisticRegression; be very careful not to change the API.\n",
        "\n",
        "\n",
        "---\n",
        "\n",
        "\n",
        "\n"
      ]
    },
    {
      "cell_type": "markdown",
      "metadata": {
        "id": "fcWYWQnYrxRT"
      },
      "source": [
        "#### Training and Prediction\n",
        "\n",
        "Your `fit` method should train the model via gradient descent, relying on the cost and gradient functions.  Instead of simply running gradient descent for a specific number of iterations, we will stop it after the solution has converged.  Stop the gradient descent procedure when $\\theta$ stops changing between consecutive iterations.  You can detect this convergence when \n",
        "$\\| {\\theta}_\\mathit{new} -  {\\theta}_\\mathit{old} \\|_2 \\leq \\epsilon$, \n",
        "for some small $\\epsilon$ (e.g, $\\epsilon$ = 1E-4).  We implemented this convergence test as a dedicated function `has_converged`.  For safety, we will also set the maximum possible number of gradient descent iterations, max_numIters.  The values of $\\lambda$, $\\epsilon$,  max_numIters, and $\\alpha$ (the gradient descent learning rate) are arguments to `LogisticRegression`'s constructor.  At the start of gradient descent, ${\\theta}$ should be initialized to init_theta if specified or to random values with mean 0."
      ]
    },
    {
      "cell_type": "code",
      "metadata": {
        "id": "UodjntNc6Ex2"
      },
      "source": [
        "#TODO: complete following functions, including \"fit\", \"predict\" and \"predict_proba\"\n",
        "class LogisticRegression:\n",
        "\n",
        "    def __init__(self, alpha = 0.01, reg_lambda=0.01, epsilon=0.0001, max_numIters = 10000, init_theta = None):\n",
        "        self.alpha = alpha\n",
        "        self.reg_lambda = reg_lambda\n",
        "        self.epsilon = epsilon\n",
        "        self.max_numIters = max_numIters\n",
        "        self.init_theta = init_theta\n",
        "\n",
        "    def compute_cost(self, theta, X, y, reg_lambda):\n",
        "        n,d = X.shape\n",
        "        y = y.reshape(n,1)\n",
        "        # precursors\n",
        "        theta = theta.reshape((d,1))\n",
        "        y_hat = self.sigmoid(X.dot(theta)).reshape((n,1))\n",
        "        # compute norms\n",
        "        square = np.power(theta[1:],2)\n",
        "        normTheta = np.sum(square)\n",
        "        # compute cost\n",
        "        cost = (-np.transpose(y).dot(np.log(y_hat)) - np.transpose(1-y).dot(np.log(1-y_hat))) + reg_lambda * normTheta         \n",
        "        return cost[0][0]\n",
        "        \n",
        "    def has_converged(self, theta_old, theta_new, epsilon):\n",
        "        return np.linalg.norm(theta_new - theta_old) <= epsilon    \n",
        "    \n",
        "    def compute_gradient(self, theta, X, y, reg_lambda):\n",
        "        n,d = X.shape\n",
        "        y = y.reshape(n,1)\n",
        "        theta = theta.reshape((d,1))\n",
        "        # compute gradient\n",
        "        yhat = self.sigmoid(X.dot(theta))\n",
        "        # sigma = 1/(1 + np.exp(-Z))\n",
        "        gradient = (X.T).dot(yhat - y)\n",
        "        # add regularization\n",
        "        gradient[1:] = gradient[1:] + (reg_lambda * theta[1:])\n",
        "       \n",
        "\n",
        "        a,b = gradient.shape\n",
        "        return gradient.reshape((a,))\n",
        "\n",
        "    def fit(self, X, y):\n",
        "        '''\n",
        "        Trains the model\n",
        "        Arguments:\n",
        "            X is a n-by-d Pandas data frame\n",
        "            y is an n-by-1 Pandas data frame\n",
        "        Note:\n",
        "            Don't assume that X contains the x_i0 = 1 constant feature.\n",
        "            Standardization should be optionally done before fit() is called.\n",
        "        '''\n",
        "\n",
        "    def predict(self, X):\n",
        "        '''\n",
        "        Used the model to predict values for each instance in X\n",
        "        Arguments:\n",
        "            X is a n-by-d Pandas data frame\n",
        "        Returns:\n",
        "            an n-by-1 dimensional Pandas data frame of the predictions\n",
        "        Note:\n",
        "            Don't assume that X contains the x_i0 = 1 constant feature.\n",
        "            Standardization should be optionally done before predict() is called.\n",
        "        '''\n",
        "\n",
        "    def predict_proba(self, X):\n",
        "        '''\n",
        "        Used the model to predict the class probability for each instance in X\n",
        "        Arguments:\n",
        "            X is a n-by-d Pandas data frame\n",
        "        Returns:\n",
        "            an n-by-1 Pandas data frame of the class probabilities\n",
        "        Note:\n",
        "            Don't assume that X contains the x_i0 = 1 constant feature.\n",
        "            Standardization should be optionally done before predict_proba() is called.\n",
        "        '''\n",
        "\n",
        "\n",
        "   \n",
        "    def sigmoid(self, Z):\n",
        "        sigma = 1/(1 + np.exp(-Z))\n",
        "        return sigma\n",
        "\n"
      ],
      "execution_count": null,
      "outputs": []
    },
    {
      "cell_type": "markdown",
      "metadata": {
        "id": "_Y-_IFEK6g4Q"
      },
      "source": [
        "## Test Logistic Regression 1"
      ]
    },
    {
      "cell_type": "markdown",
      "metadata": {
        "id": "znSeTmfYmgUK"
      },
      "source": [
        "To test your logistic regression implementation, run `test_logreg1`.  This script trains a logistic regression model using your implementation and then uses it to predict whether or not a student will be admitted to a school based on their scores on two exams.  In the plot, the colors of the points indicate their true class label and the background color indicates the predicted class label.  If your implementation is correct, the decision boundary should closely match the true class labels of the points, with only a few errors, as per  below:"
      ]
    },
    {
      "cell_type": "markdown",
      "metadata": {
        "id": "xH699JiVngOb"
      },
      "source": [
        "![logregLinear.png](data:image/png;base64,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)"
      ]
    },
    {
      "cell_type": "code",
      "metadata": {
        "id": "_7Un3fMJ6keB"
      },
      "source": [
        "# Test script for training a logistic regressiom model\n",
        "#\n",
        "# You should download the hw2.csv first and load the hw2.csv file in the below_logreg1\n",
        "#\n",
        "# This code should run successfully without changes if your implementation is correct\n",
        "#\n",
        "from numpy import loadtxt, ones, zeros, where\n",
        "import numpy as np\n",
        "from pylab import plot,legend,show,where,scatter,xlabel, ylabel,linspace,contour,title\n",
        "import matplotlib.pyplot as plt\n",
        "\n",
        "def test_logreg1():\n",
        "    # load the data\n",
        "    filepath = \"\" ## TODO: Load the hw2.csv file here!!!!\n",
        "    df = pd.read_csv(filepath, header=None)\n",
        "\n",
        "    X = df[df.columns[0:2]]\n",
        "    y = df[df.columns[2]]\n",
        "\n",
        "    n,d = X.shape\n",
        "\n",
        "    # # Standardize features\n",
        "    from sklearn.preprocessing import StandardScaler\n",
        "    standardizer = StandardScaler()\n",
        "    Xstandardized = pd.DataFrame(standardizer.fit_transform(X))  # compute mean and stdev on training set for standardization\n",
        "    \n",
        "    # train logistic regression\n",
        "    init_theta = np.zeros(d+1,)\n",
        "    logregModel = LogisticRegression(reg_lambda = 0.1,init_theta = init_theta)\n",
        "\n",
        "    # Test compute_cost() function\n",
        "    X_temp = np.asmatrix(X.to_numpy())[:10]\n",
        "    y_temp = np.asmatrix(y.to_numpy()).reshape((X.shape[0],1))[:10]/2\n",
        "    print(y_temp)\n",
        "    theta_temp = np.array([0.25,-0.5])\n",
        "    print(\"Theta temp: \",theta_temp.shape)\n",
        "    print(\"TEMP: \",float(logregModel.compute_cost(theta_temp, X_temp, y_temp, 0.01)))\n",
        "\n",
        "    logregModel.fit(Xstandardized,y)\n",
        "    \n",
        "    correct_weights = np.array([[1.519,3.522,3.273]])\n",
        "\n",
        "    if np.linalg.norm(np.around(logregModel.theta, decimals=3) - correct_weights) < 0.001:\n",
        "      print(\"Correct Weights: Your implementation is correct\")\n",
        "    else:\n",
        "      print(\"Incorrect Weights: Please check your implementation\")\n",
        "\n",
        "    # Plot the decision boundary\n",
        "    h = .02  # step size in the mesh\n",
        "    x_min = X[X.columns[0]].min() - .5\n",
        "    x_max = X[X.columns[0]].max() + .5\n",
        "    y_min = X[X.columns[1]].min() - .5\n",
        "    y_max = X[X.columns[1]].max() + .5\n",
        "    xx, yy = np.meshgrid(np.arange(x_min, x_max, h), np.arange(y_min, y_max, h))\n",
        "    allPoints = pd.DataFrame(np.c_[xx.ravel(), yy.ravel()])\n",
        "    allPoints = pd.DataFrame(standardizer.transform(allPoints))\n",
        "    Z = logregModel.predict(allPoints)\n",
        "\n",
        "    assert Z.shape == (12259096, 1), \"The output shape of your predict() function is incorrect\"\n",
        "\n",
        "    Z = np.asmatrix(Z.to_numpy())\n",
        "\n",
        "    # Put the result into a color plot\n",
        "    Z = Z.reshape(xx.shape)\n",
        "    plt.figure(1, figsize=(8, 6))\n",
        "    plt.contourf(xx, yy, Z, cmap=plt.cm.Paired)\n",
        "\n",
        "    # Plot the training points\n",
        "    plt.scatter(X[X.columns[0]], X[X.columns[1]], c=y.ravel(), edgecolors='k', cmap=plt.cm.Paired)\n",
        "    \n",
        "    # Configure the plot display\n",
        "    plt.xlabel('Exam 1 Score')\n",
        "    plt.ylabel('Exam 2 Score')\n",
        "\n",
        "    plt.xlim(xx.min(), xx.max())\n",
        "    plt.ylim(yy.min(), yy.max())\n",
        "    plt.xticks(())\n",
        "    plt.yticks(())\n",
        "    \n",
        "    plt.show()\n",
        "\n",
        "if NOTEBOOK == 1:\n",
        "  test_logreg1() ### Comment out this line when submitting ###"
      ],
      "execution_count": null,
      "outputs": []
    },
    {
      "cell_type": "markdown",
      "source": [
        "# Section 2: Logistic Regression with Adagrad [10 points]\n",
        "\n",
        "In this section, you'll implement logistic regression Adagrad with L2 regularization methods to see how it performs."
      ],
      "metadata": {
        "id": "ePAqd4Op_Yew"
      }
    },
    {
      "cell_type": "markdown",
      "source": [
        "Start by duplicating your implementation of logistic regression from the previous exercise into the class `LogisticRegressionAdagrad`.  First, adjust your implementation to use stochastic  gradient  descent  instead  of  regular  gradient  descent.   The  training  should  run multiple loops over the entire training set, selecting each instance in turn.  The gradient is then computed for just that one instance, and the model parameters are updated accordingly based on that one gradient (not the average gradient). Once you have stochastic gradient descent tested and working, do the exploration on the Adagrad (learning source provided as follows).   \n",
        "\n",
        "Adagrad adapts the learning rate to individual features, and changes it  over  time.   \n",
        "\n",
        "$\\theta_j = \\theta_j - \\frac{\\alpha}{\\sqrt{G_{t,j} + \\zeta}} g_{t,j}$, where $G_{t, j} = \\sum_{k=1}^t g_{k,j}^2$\n",
        "\n",
        "Here $\\zeta$ is a small positive value to avoid divide by zero error. $t$ represents an iteration, $g_{t,j}$ represents parameter $j$ at iteration $t$.\n",
        "\n",
        "Several selected source for Adagrad: \n",
        "\n",
        "https://medium.com/konvergen/an-introduction-to-adagrad-f130ae871827\n",
        "\n",
        "https://machinelearningmastery.com/gradient-descent-with-adagrad-from-scratch/\n",
        "\n",
        "Modify  the  gradient  computation  to  use  Adagrad  instead  of  the  constant learning rate `alpha`, allowing it to adapt the learning rate for each feature. Test your implementation thoroughly.\n",
        "\n",
        "**Note:** `computeCost` and `computeGradient` for Adagrad should be the same as the first section 1. Do not shuffle the training data. "
      ],
      "metadata": {
        "id": "7Cc3PppJ_p2n"
      }
    },
    {
      "cell_type": "code",
      "source": [
        "#TODO: complete the following functions, including \"fit\", \"predict\" and \"predict_proba\"\n",
        "class LogisticRegressionAdagrad:\n",
        "\n",
        "    def __init__(self, alpha = 0.01, reg_lambda=0.01, epsilon=0.0001, max_numIters = 20000, init_theta = None):\n",
        "        self.alpha = alpha\n",
        "        self.reg_lambda = reg_lambda\n",
        "        self.epsilon = epsilon\n",
        "        self.max_numIters = max_numIters\n",
        "        self.init_theta = init_theta\n",
        "\n",
        "\n",
        "    def compute_cost(self, theta, X, y, reg_lambda):\n",
        "        n,d = X.shape\n",
        "        y = y.reshape(n,1)\n",
        "        # precursors\n",
        "        theta = theta.reshape((d,1))\n",
        "        y_hat = self.sigmoid(X.dot(theta)).reshape((n,1))\n",
        "        # compute norms\n",
        "        square = np.power(theta[1:],2)\n",
        "        normTheta = np.sum(square)\n",
        "        # compute cost\n",
        "        cost = (-np.transpose(y).dot(np.log(y_hat)) - np.transpose(1-y).dot(np.log(1-y_hat))) + reg_lambda * normTheta \n",
        "        return cost[0][0]\n",
        "        \n",
        "    def has_converged(self, theta_old, theta_new, epsilon):\n",
        "        return np.linalg.norm(theta_new - theta_old) <= epsilon\n",
        "    \n",
        "    def compute_gradient(self, theta, X, y, reg_lambda):\n",
        "        n,d = X.shape\n",
        "        y = y.reshape(n,1)\n",
        "        theta = theta.reshape((d,1))\n",
        "        # compute gradient\n",
        "        yhat = self.sigmoid(X.dot(theta))\n",
        "        # sigma = 1/(1 + np.exp(-Z))\n",
        "        gradient = (X.T).dot(yhat - y)\n",
        "        # add regularization\n",
        "       \n",
        "        gradient[1:] = gradient[1:] + (reg_lambda * theta[1:])\n",
        "        a,b = gradient.shape\n",
        "        return gradient.reshape((a,))\n",
        "\n",
        "\n",
        "    def fit(self, X, y):\n",
        "        '''\n",
        "        Trains the model\n",
        "        Arguments:\n",
        "            X is a n-by-d Pandas data frame\n",
        "            y is an n-by-1 Pandas data frame\n",
        "        Note:\n",
        "            Don't assume that X contains the x_i0 = 1 constant feature.\n",
        "            Standardization should be optionally done before fit() is called.\n",
        "        '''\n",
        "    \n",
        "    def predict(self, X):\n",
        "        '''\n",
        "        Used the model to predict values for each instance in X\n",
        "        Arguments:\n",
        "            X is a n-by-d Pandas data frame\n",
        "        Returns:\n",
        "            an n-by-1 dimensional Pandas data frame of the predictions\n",
        "        Note:\n",
        "            Don't assume that X contains the x_i0 = 1 constant feature.\n",
        "            Standardization should be optionally done before predict() is called.\n",
        "        ''' \n",
        "\n",
        "    def predict_proba(self, X):\n",
        "        '''\n",
        "        Used the model to predict the class probability for each instance in X\n",
        "        Arguments:\n",
        "            X is a n-by-d Pandas data frame\n",
        "        Returns:\n",
        "            an n-by-1 Pandas data frame of the class probabilities\n",
        "        Note:\n",
        "            Don't assume that X contains the x_i0 = 1 constant feature.\n",
        "            Standardization should be optionally done before predict_proba() is called.\n",
        "        '''\n",
        "\n",
        "   \n",
        "    def sigmoid(self, Z):\n",
        "        sigma = 1/(1 + np.exp(-Z))\n",
        "        return sigma"
      ],
      "metadata": {
        "id": "gMmJn8SzASrH"
      },
      "execution_count": null,
      "outputs": []
    },
    {
      "cell_type": "markdown",
      "metadata": {
        "id": "PhZog0vo71yE"
      },
      "source": [
        "If your implementation of LogisticRegressionAdagrad is correct, the plot for test_logreg_2() should look like the following:\n",
        "\n",
        "![image.png](data:image/png;base64,iVBORw0KGgoAAAANSUhEUgAAAdoAAAFiCAYAAABRfRm3AAAgAElEQVR4Ae29d5Qc1bX/ezQ555zzKIykUU6jnHNOiCREEEgIhAABQoAQQSAJAQIEkpCQEFlE29cGGxNsbBPt63RtX+f7e+u937u/t9ZL//3eXfut79H0UFXdo+lU3RW+s9asrjpdXXVqn33258S9leIfJUAJUAKUACVACVAClAAlQAlQApQAJUAJUAKUACVACVAClAAlQAlQApQAJUAJUAKUACVACVAClAAlQAlQApQAJUAJUAKUACVACVAClAAlQAlQApQAJUAJeEkC+Rmp0lqSZdt/aXaa5OTmSfOQ4X3/FbUNkpGWKq3FmbY918534r3t0xfKlrKlDlAHEqEDSqn/TBjL8ULvbhxs239nTZncdewVefmb/+j7f+nrf0ppSbEcW9Ji23PtfCfe2z59oWwpW+oAdSAROqCU+sozoB1SWya7n3qxD7IA7rkv/y5FhQXy3FKCNhEKxWfQcFEHqAPUAbMOeAq0V4+plK5RY+Xs53/pg+01dx+Q1spi9mZtHElgpTJXKr/L4/W1HXJ6RZu8vaGT9Y71jjqwcbB4CrRvru+Uic1lUllZKQvWXS4jx46XkvwceXJhs+MK+631nXJwXqMcnt9Eg0Rj5Dj9jKax8Ma6DlnUXiQ56SlSmJkqlbnpcuvkGk+8WzTy4G/YAA3ogKdAi5d6Z0OnPDK3UTZ3l8uuSTWC1nXgZZ3yef/MeinLSZPGwkypzc+Qmvx0OTSv0XH5dIq8mA93GKx5rYUysS5Pzqxs07p8YE6DYIHiA7PqqdtsTPpaBzwHWqcb5RdWtAlWX++becH4oGFw+5QaKc5Kldcc2ChwujyZP2dA+NyqdslNT5GXVrebDOqN46tkQl2eKY1l5owyYzkkrhwI2gS3NK8aVSFzWgqDDM/YmlzZOak6KJ2VIXGVgbKOXtZHFzXr0RmrDDFS01yUSb1OsJ2xlgPPo9fteMiOoE1wBVgztFQ2Di8LMjwL24tky6iKoPR4FDLvkdxKFo38n13SIquHlMis5gK5flyl40c7MEWDkRrk2/i+lwwvk7mtwQ1L4zVuPn5lTbucX8dFX24uw0TknaBNMGjvm1Gv52axcCtQwBgyLs1JkyMLmvrSAt/x032QjKTMACgsGNo6tlKeXnxh0R50pCAzVVYOLpHt46tkXE2uNBVlBg3LRvKcRFyL0Zq6ggy5e1qd3rd+xchyvSjqmcVm+CYiL3Y/A+tAOkqzJCN1kGSlpejGBKBr93N5f3faA4I2waDFlodxtXnSVZGt52axYKutJCvkcDIrlTsrVbjlhmFVzM2Prs7V5V+UlSpL2oukKi+9bw4f98I8Pnq267tKHW/Ioc9DyrL1iuNpjQXy1KLYVvyjEWqd9w1XvnZdh147GkK7JtcIdg+cXdmmywcNIrueyfu62xYQtAkGLSoMerPbxlXJmJpcGV+bp+dmuefQ3RUpUkMIAw2g7u75dvvLy6vbpSYvXa/UBVyN98QKXjTIjGlePn5xVZv0NORLVtqFHmNnaZZjVuavGFwiq4aUmMoCdbo4Oy3mhoWXy9TP70bQJgG0flY4vvuFBsWjcxv1FIJVHtiWlp2WEjTvt2darXRV5JiMu/W3XjlHIwNgXdpZLBiORaNk58RqPQx9anlr0mWALUzYKWCVN0Ym9k6vC0q3XsdzfzWqUd6uBC1a/s8vb6WjBzYSXGvUHpoduoeK4UjsPd00vEwPGaOSAjbtJVly44Qq175vJHBB7x37y629eiwYxOKqSO5lx7Ubu8pkfluRKR+vrsFisBQ5sSz5DQE73pn3jK1x4CrQwuBMb6uQ7KxMKSwokKqSAkFLn0oQmxJQfomX3/l1HYI5WSyqCcgfw49Dy7PlypHleksMHJpMqs/Xq3kXtxf5pmGJbW5TG/L75BKQz7bxVTK7OfkrmM+saOtrDJ1c1qqHtEdU5nh6dXWgDPgZna1wFWjHNZXJjCWr5eQnvxNE5dnz3GtSmJ8nR+ZztS4rQHQVIJlyw+pcbImB28LLRlyAKxbKAbjozaHXixXJx30WEAN7cjHfCZeOxvKZXJ8v14xxxhY4BCmZ0VSgG0vofWOFNYa4jfnlsfvqpF1l5hrQQrELC/LlzC/+3BcwANF5Nu64Q+Z0OKPy2VVIvK93Kyx6RJeOKJPlncV6fo+L4i6UNVYsd1flCuaysT0IC5Cq89L1MDrrg3frg1fL1jWgfXB2g3QOHmKCLEB7+9GzMrKRoPWqgvK9/GlU0au/bGS53pdbnpMmC9qKdEQg6oM/9cHt5e4a0GpfqtlZcuyH35hgO3f1JbKmi6B1uyIy/zSg1AHqgFd1wDWgRQGsHV4pTS2tctuTZ+TRN34ky6+8XkoLctnS5epjzo1RB6gD1AHH6oCrQIsFItji0FlTKjWlhTKvs5zL6Vm5HFu5vNo653ux50kdiEwHXAVaFm5khUt5UV7UAeoAdSD5OkDQskfIHiF1gDpAHaAO2KgDBK2NwmVLMvktSZYBy4A6QB1Itg4QtAQtW7LUAeoAdYA6YKMOELQ2CjfZrSg+ny156gB1gDqQfB1IKGibhwxnq4lgpw74WAcQ6H7HhCod1B47CHBOECQfBCwDe8sg4aCFNycWqr2FSvlSvk7UAUTcQgxeBEiH1yd84hzpTswv88R6FC8dSApoCVsqcLwUmPdxjy7Bf/G6YaUmqOIc6SxH95QjyyryskoaaAnbyAuLCk6ZuVkHMlIHyYur2k1QhWtVpLv5vZh31suBdCCpoAVsCVwq6UBKyu+9oSPZaSlB7lJPr2gTpHu5jO+bUa977WNqcuXq0RXyGuelPV3eoXTZEaAlbL1hSEMpGNNYtgEdmNdaKAvbinSsXaTBperC9iJPB0xHnFrMQ18/rlLu6KmV8bV50l6axUVgPlsQ6BjQErY0yAGDzE9v6gKGidtLsqSlOFMWdxRLa3GmPke6F8v8xVVtkpueIqcMi73QuBhTnavB68V35juFrruOAi1hG7qQqLyUi1d0AIHtMZS6ZVSF/vRyoPs902plVFVuUCNi58RqmdKQH5TulTLmewTbK8eBFrAlcIMLispLmVAH3KUDB+Y0SENhRt9QeaD8LhtRrofQA+f8dFe5RlNejgUtYet95YtGYfkb6oVbdAC9dYAWC6DOrWqTfTPqZXdPjRRlpsjh+U3s0fpontbRoCVsaVTdYlSZT+pqKB14dkmLlGWn6S1MbSVZUpiZKrX5GaZ521C/Y5q39MnxoAVs3/vbo2z9+aj1RyPjLSPj5/LcO61Oqg3er9DL3dhVJl0V2bRpPrJprgAtYMveLY2vnw023z02/YdP5atGVciIyhzt+vG2KTVBc6d2yHhiXZ7cNKHaBNW31ndKcVaqoLdrxzN5z9h0xQ75uQq0hK3zFMgOpeQ9Wc7x1IHz6zplaHm2jKvNE/Qwd02qkeaiTFnWWWw76NBzxdys9X3w/EPzGoPSrdfx3Bt1wXWgJWy9oXg0ICzHROnALZOqZVh5thi3Er20ul3yM1LluaX29iovGV4mM5rMvpyfWNCk52rPr2PkokTpQLKf40rQErY00smuOHy+e3RwfmuRXDumMqj3iGAGN000D+vGu1wB9PqCDL1vFiuOr+wul+LsNLnZ5ufG+z14v9j03bWgBWwJ3NgKn5WH8vOqDry6pkO2jbsQ9xZuD5d2BA8Td5Zmyb3T64IAHG+ZvLy6XTZ3l+uh67mthXKQQ8a2yzzeZRjr/VwPWsKWsDBWAri4w2ITYxqP/aUjGA4uz0mTCXV5Ou5td1WOZKUNkrum1mq9wBAyfA/DBzF1xV+6kSxb4AnQErasLFhVurSzWPuWTRmk9PYJLjbxp16gB3v5yHJTYws92rz0FGkszJSK3DTtb/npxc2ma5JlhPlc7+upZ0BL2HpfWS9mkKbU5wv+Ty5rFawyxZaKgkz7F7tcLE/8LvE6iR5qWooKCkUHvcDiJzS+ji5qTsjWHpZ/4svfqTL3FGgBWwLXf8qN/YjwuPOGZRXnqiElsmJwCXstPnIMANAikDwWIRmNLnQEe1eNaTxOvq14fnmrduAxp6VQto6tFMyte7FcPAlawjZ+FQhznvtn1us9h2uGlsqTC5033HbvjDoZWZkTVEHvnFqrF6B4seLynfrXcawmRgMLugs5YU52VnNByAVRlGP/crRbNo/MbdSjTovbi+SGcVUyoTZP6goy5OzKtqC6bHde7L6/Z0FL2MZegWCo0NKEb1ZEHAFoi7JSdcvTbsWM5P6BYcHX1ppbw5iXQ54juRevjV1vki3DMyvatEMKBFiHEce8LBxWvLLG3MtNdj79/HzYFsQlvn1Kjal+LmwvSogjkUTL3tOg5VBybEZz38x63cI0Auz40ha94OiMw1qds5sLdezPJxY2CQJuw90eGgUYmkp0peLzYtO7eMgPQ8h7p9fpyDkYkQn0buNxb94j9vI9vaJNz5kbnYhArnDmUZOf4bk66wvQsncbXcVY3FEsV1hWb6IyTK7Pd9yG+zfXdwq88GBbR3ZaisDHLBa90ChGV/aUG+Vmpw5gDh31FLsFjM95aHaD7uka07xw7BvQEraRG46Vg0tkfVfw0OuY6tygIR8vVAa+Q+Q6QplRZuHoAEYU0Bg2XottWJjaCYw2ALrDK3Jky6gK03XG37j12FegJWwjMwpH5jdpd3GYAw0o+MNzGvSQj1dXBwbek5+R6Yrb5IWhZcwPwj0jVqdz9MOe8oacMdKEXQHY395anClYvAh9eWFFm7SWZElDYYZMbcjXUz0zmwo86UTEd6B167wt5kkx3wjFTaRRQ+syNz1FsJJzXE2u5GekyH0hopEkMk98lj1G0S9yRc9qdHWudJRmyTVjKnSvCiDYOclev8d+ka/xPTEqhghGcA6C+dg902o1dB+deyFyEXqzGC7eObFanvLwVI9vQeuW3i32hi5qL9KwgzPyspw0rZRGZbb7+NTyVrlxQpXsmlzDlZs+2pNqt14l6/47JlTpaD7GRiu2raERaVz4l6z8eeW5WOWNRjp6rsZ3wn5ZrPMwpnn92NegdQNs57cVaZ+tgb1l8GwD2LJXyV6d142TXe8HI48elPX+CKUXGNa0fsfzyOsberE1+elBcj6yoElvuXKDTLGLAR2Mx+Y3Bb1HJPn3PWidDFtE/UCL8MVV5v1/CLE1tiY3poKPREl4beRGhjJzrswwDxgqbB6CsWMNAssuPmWH0YG8jBTtFtUoU0xHYSrKmOa0YyzMQlCK0uw07doV/rERnCLavdgEba/bRicC95nFLTrCiFUJ3dQitObdr+eYi3pwdoP2wexE71p+KhfsD0fkHji2CLz3rZNrGM3HhmmRjcPL9IIneIHClp6AD3LYsIDsnfiJBXKT6vL6VkpjmmFWc6EsbCuKKt8ErQG0ToPt+XUdeuGAdZHAphFlAgcNTlRQ5im4NwCD3laSpYfLZjQVSEl2ml5lad3uQNkFy84umWAlLHpbCEQBr1GlOWmCVfZ2Pc+v90UDE6MH8C6XlZaie4WArtPlgfUw1uhOmGvGOwS2I0XyDgStBbROgy2UFPMcd/TU6oKHAwmskLQqQSSFzmsTZ9Aha7SM0UIOVFA0oLqrcoNCubFcElsuWOSHudq7p9XpiE+Uf2Ll72R556SnBPlcxsLU1EEqqp0fBG0I0DoNtrt7aqSrIkeq89IFPSJrD9fJCuv3vGFOB61g675jtOrhg9ft8rG60HPq+2ALCRZBwf8xVvHDlahT88p8JR/4PQ35cumIMpOOoNODbWHRlA9B2w9oAVunATeaAuZvkltp4XcZrWPjVhKUCRwkVOYGr8h0S3lhnhPQGqSUdmqCoBPWd3TKu9w2pUYP1yNCzIE5DbJ22IXgGMeWELZOKSOn5QNhFbEQClGfsLURjk3gOz3a9RUE7QCgJWyTCyqnVcBo8gPHCNbtJPAjjf9o7pfs38DZAKYvMJ0BuKLRgHnO1UOcF/sX+cOKUeu8IOZouc6BdftidQm7Pa7oLhesUkfv1rh47mK/C/UdQRsGaAlbVshQlSfcNOx9BpgWtBXpEIOIu4nFIU6LgBTu+2AIFk4HjNcjGgu2olmHyI3XJOMY7kOxsMX6bDQOQu3xtF7Hc9b9eOgAQRsmaAlbVrhYKhxAhFbxvNZCuX5cpeOAFMm7YW451PYMgCvZi/Sw4Axh8TCUja0kp1e06qH7c5a96HdNrdXeoSJ5b15LGxCtDhC0EYAWsCVwWdmirWxe+R0cwF892hxhBT1HbJdJpgtDrOYeU5Mr9QUZAh+7iA6DrVQImYg8B5wNPLe0RcdZxt5Zr5QJ38PZdomgjQK0hK2zlZpGx97yOTy/SQ+Fwwk/hooxNN5ekiUbQoRUTGRZbO4uF4RwNC7KunF8lY4Yg9X6GNpGbxw+ja/sLidkbXBQkcjydtOzCNooQUvY2mvM3VSJ/JhXbJdB7NCM1EHaoxLc6gX2CSdLHlh0tn9WvQmggC5Wi2I7D+bEH1/QlNRed7Jkw+cm114RtDGAlrBNrvLSeFD+Rh3AdqMHLKDFPt/iXtAar+UxdSeROkDQxghawJbAZaVNZKXls0LrG7ZiIGaycej4ponV2tdusnvbLLPQZeYXuRC0cQItYevviuQXg+Hk94SLPERYwTzsmqGl2vUlerOhVkg7+T2YN+/ZEoI2jqAlbL1XQWj03FWmGCreN6NeEDVm+/iqvpXGLEd3laPXyougjTNoCVtWaK8ZCb4PdZo6EJsOELQ2gBawJXBjU0xWbMqPOkAd8IoOELQ2gpawpaHwiqHge1CXqQPR6wBBazNoCdvolZMVm7KjDlAHvKADBG0CQEvY0lh4wVjwHajH1IHodICgTRBoAVsCNzolZeWm3KgD1AE36wBBm2DQErY0GG42GMw79Zc6ELkOELRJAC1hG7misnJTZtQB6oBbdYCgTRJoOZRMo+FWo8F8U3epA5HpAEGbZNCydxuZwrKCU17UAeqA23SAoHUAaAlbGg63GQ7mlzpLHQhfBwhah4CWsA1faVnBQ8sKsVgRIxYBzpuLMmXnxGpTbFbKLbTcKBfKxW4dIGgdBFrO27LCR1vhEYi9MDNVdk2qkXOr2uX+mfVSk58hW8dWErYbqVfR6hV/Fx/dIWgdCFr2buOj3H4yEqOrcwWxV43v/PiCJinNTjPFZzV+z2PqGXUgMTpA0DoUtIRtYiqAVwxNSXaanFzWagIt3i0/I0XOrmwLSvfKe/M9WE/coAMErYNBS9jSiIRrRLoqsmV3T40JqMeWtOjh5DfXd5rSw70nr6P+UQfiowMErcNBy3nb+Ci61w3G3ml1UpqTJg/Mqpd3NnTK0UXN0l6SJZeNKCdkOUdLHUiyDhC0LgEte7cE7kCNhdum1EhtfoakpQyS4qxUuaK7XEN3oN/xe+oWdcBeHSBoXQRawtbeyuAFY4Pe7BvrOgjYJPdgvKBLfIf42RuC1mWgJWzjp/w0JJQldYA6kAgdIGhdANqDb34k9599T85+/hcdao/ztjQOiTAOfAb1jDoQHx0gaB0M2se/85m0dY2SkspqaewYKkVlFXLTo88SthwW5OIW6gB1wEU6QNA6FLTnvvqH1LV2yKaddwuO0Yt94Nx3paCkTB55/YeErYsqGXsF4fcKnlrULDsmVMm+GfV0tEEd90xjgqB1KGjvef5NqW/rlJe+/qcJqquu3SkLL9liSuO8bfiGnNBzpqzeWt8ps5oL9WrpGU0F0laSJXUFGXIihBMOlqEzy5Dl0n+5+AK0Z37xZ7n18dOy/aGjcuyH3wRBKjDn6aTPmw8el9HT5gTl9br7DsvkhSuC0gN5p7L3r+xel83Ti5tl+/gq2TOtVtzmpOK6sZUytDxbXl/b0deLuWxkuYyozOk793r58f28W3c9D9r7z7yn5zYHj54g42YukJz8Qrn0lnv6BVUAWMn+fPr9r3Ren/3wV315Re925JSZsuWuh/vSQuWTFda7FTZU2b69oVMWthdpL1Azmwo0sCpy0wXDsKGud2JaZ1m23Dej3pTf8+s6tQvJ0yvoQtKJZcY8hW9nPA1arNItqaiSXUee7wPT0e9/oRcX7Xvh3b60ULByQtrKa26S2uZ2uf7+x+X2o2dl/JzF0jJ0hJz+7E8D5p2VIPxK4HZZIRxea0mWvLKmvQ9U28ZVSUtxpmv20yKs3yNzG/vyjzLBnmD4cD6+tMWU7vbyYv79UzcDZe1p0O5+6kXpGDk2CEobdtwpc9deHpTuBLga84Ae7M5Dx2XMjHkydOxk2XjTHnn+J/8Wdr4DhcxPb1fsMdW5cvsUs59j9HLLc9Jc06tdN6xUMDcLuAb09a6ptVJfkGFKC3zHT2/rtNfK19OgxTxnd8+sIDBh6HXa0jVB6UbIeenYa0rL9zEbWQR73zu9rg9QAflgMdGR+U1B6YHvnfT50up23QPvrsqVa8dUyqL2IinITBXE2XVSPpkXs+45QR5PLGySe2fUyRkHR6nyNGiPf/wbPc955N2f9EH17Od/ldaubtnxyLG+NC9Btb93cUKFYB7sMVJXjaqQcTW5gl5sQMb7Z9XrHi1W8wbSnP4J15HY2rOgrUg2DS+T55cHh/1z+jswf/boeCi5IvwjolZh5AaL5nLTU2TN0FJHjoB4GrSAzpY9B/RiKGyLueL2+6V5yHAZO3O+nPvy774CLWQRSlmZljjDYJessVJ3WHm2DC7Lli2jKmRxR7HkZ6QGLS6y6/m8r/t1yI1lOK42T1YMLunbbw3wYq5/56Rqx9k6z4MWgHnolR/IokuvkZkrL9Fznn6EbKCn68YKxTwPbMixnQfRezDkesnwspBB4CnHgeXoJBmdW9UuGFJ3Up6ckpczK9okLyPFtB0MecO8PqZSnJLPQD58AdoAZPj5H329+IAC8NNdxpfl5f3ywrYsDIlmp6VIVlqKYN6aK6/N5f7M4hapyE0LAurBeY26V+u0ekLQJsgzlNXDkxOg7zRlZH7MxoTy8J88sEWrNDtNLwjDPmLMW18xslyq8tIF59SJCzqBtQfYK25dLIcRnZWDSxwnJ4LWRtCe+uyPsmDjFr0gKzUtTUb1zJZHz3/Y16skbL1jSLEt5bmlLRyypX/emIz8tvFVMqkuL+geWOxj3cLld+himLgwM1UvnNvdU6O3h6FB4sTVxwStjaCFC8XJC5bLk9/7hQC6WIxVWFouz3zwtW9hixb78s5iKc1J035tscIUixjcbDQendsojYWZ2rkCtqQMKcuWY0voZMHNZZqsvK8dViobh5cF1YdlncVyZXd5UHqy8umU5z6xoEl7RZtQmyeXjywXzGs7JW/GfBC0NoEWEXYQ3g7biYw919mrL5W1N9xqSjN+n8xjo2LYcYztJ/BnC8cE8MuLeSeskG0ozJDz6771cWvHs+26J1rPaFWjRY1eLYa0rh5dIZW56a7zN2yXjHjf8Edu7uip1avHjY47oFOoI/tnml1UUq7hyzXZsvI0aJ/47s8FUXCwnzbRAEPcWPhWtj4X7hQvFhTAen2iz+1UyPtn1uuen3G/JwwKhsVuceCS/HBksbm7XOa0FAa1orHdBkNb4dyD17jHYIYqqwNzGnTjEXoMD1exDF0Cqu2lWQKf1Y8vaJLD85tkcn2+riNG+IbKB9Ocq0eeBC3cFI6btVDyi0qkbfhoPUcKv8GJXJD06Bs/kuLyyqAeLbYYrbvhtiAAJxqoF3ueXRUWjhWWdBQHwefSEWWyaojzFjCEIwcMg2OxivXa+a1Fgog01nSeO9cYRlM2aCAWZ6fJNWMqtHcilDsW6cQSCOHl1e26PtTkp+tQgeu7SoO2sUSTV/4mebrnSdDCveK0pWvlhZ//uwYa5kQbO4cJQsxdDDDx/g6OMRAI4LF3PpUTn/xWB3EvKqtwRag+OyolwrchSov13hPq8gSLQKzpbjjHAhXMyRp7G1gpWpaT5hr3h26QsxPziL3LgOxjFjeXmA6BIwUn5pl5Sg5sPQda9Gazc/M02Izg3H30rLSPGJNQ0L7wsz/Jksu3SkFJmaRnZuqh5ENvfZzQPBhlEM1xPCtmYK5p9ZASQasdHo2u6C7XLtReXePOOVoYWzQeptTn660GCPXWVZEjUxvyaWg9vgL56KJmQa/TWkcQhQiB663pPE8O5Jwgd8+B9qkffCEFxaVBw8QHz/9YKuubXAW5aMBox2/iqagYUgOUMlIHSXrKIBlbkyvPunyFLhoJ8M0L4wo3iHCKj0ZFPOXGeznPSEOXQ3kn2jW5RkZX57L8Pd7QiqROeg605776h1Q1NMue514zQXXVNTfLzJUbTWl2QMmr94xEqcK5Fpvv3brSOJz34zXOA6MdZYJtJRgqDjiTOLmsVWryMwSrh/E8rKzHCnvj1IId+eA9na1vngMtQLfryCm9X3XTzrvljqfPaacRWJj0+Hc+I2hj3M7ECu3sCs3ySWz5YN8meq9FWanSWZqle7iYDgFcO0qzdDqiyyBkIVYns3wSWz5OkbcnQQvYPnDuezJ92ToZNm6KLL3yBsGQsld7m4l+L6coL/PhT6PlxHLH9MfDcxoEDlnQu8XK461jL0whoDd759RaHV8XzvCdmH/myd665FnQJho+fnseK6a9FZPyda98MWyMBXHWMsR+a+y7tqbz3L1lHW7ZEbQxDqX6DbDG9w1XyXid9w0Jy/jbMsb+aeyntcoE+62x79qazvNvZedVWRC0BG3MQ+perRx2vReGD7FIhgtkvGlgj8xv0vuosZ86oEPwhoY53MAiqUA6P72pA9ZyJWi/+Q85+/lf5L7T78iBVz8I2hZk7MHx+Nt4tlZZWBWL58EG5PnlrTq2KLaElGRfWCDzwCz6r/WirkxvLNB+vfdOr5P9s+plYl2ePue2r+B64cXyt76T70G789BxgbempsFdUl7bII0dQ+Xgmx/F3MuzgsgP51bl4vm3RgU9muaiTNnYVaa3NaE3e/e0Or1A5ulFzdpxByJ+kZkAACAASURBVPbgIuB3YBEN5fet/NwmCwAV5Qif1+jJXjayXF5b+20P123vw/zGpou+Bi28NMG5xf1n39NghS/kLXsOSGVdo7z4xd8I2yiG1VkhQ1fIB2c36IAK1uHipR3FOtLPuNo82TezXtADgnGe1ljQN+xImYaWKeVCubhFB3wNWmz7WbZ5WxBQW7u69f5bP/RC7XpHt1SAROUTzud7QrhlvGFclZ7PM0Y0wtwe9l4ickui8sfnEFrUgdh1ANu8EDiluypHfwa83vkatDNWbJDNdz4YBNoJc5fItgefDEq3C0pevS8r7rcVF4HgEbfWOHyI3i0qJLwLWWW1oK1IR4SxpvP8W5lSFpSFk3QADWPUcYRKvHd6nf7E+aF5jeJr0N6w/wkZMmaiwG1jAHbHP/q15BYUypPf+0VfWuA7fva/GKo/2TipIiQ7L/NaC3Wkn3tn1Mmjcxt1HFtE+cHCGWveENsUkYGs6TwnXKgDztQBNJqtUci2j6+SkZU5/gYtVht3do+TUT2zZdeR52Xr/UekrrVDe5LqDxxMJ2yjNXSBBTJY9ISFUWuGlmpXfQWZqdpzEHq4uGbbuCo9dExf0M40qNGWP3/n7fJMS1FBcYMRoSx1kPI3aAHN05/9SS6/bZ8MnzhNh7HDKuREBoj3E7hpaEIbGvjAhS/citw0Hd8UUYAQgo3yCi0vyoVycaIOFGel6oazMW/weQ0/2L4eOk4W5DBUjSFqP65sNiohj781mOjNolIGFk9QNt/KhrKgLNygA+u7SnWACfi7Rn7xOaY6V8/VErRRbGGJBdDX3nNQyqpqJTsvXweEX799t2mOOJZ7u+W3bqg0zCONO3WAOhCJDry5vlPmthbqCE5Dy7P1J/xbIz0W0OYopfYqpU6oC3/tSqklvcchP5qHDPf1AqMbH35a79F94Nx3tRwOv/2JYCvRhh13+k4ukSgwr6XBow5QB9yiA6eWtwr2zeMzkOdYQPuaUup2pdRve6kK8P4qJGF7E/0O2pZhI2X30bMmqMILVWFpue96tYHed0AR+UlDSh2gDnhVB2IB7Ve9/PylAa7/ajgOOvQ7aPOKiuXYj35pAi0WXmVmZcupn/7BlB4AkR8+vVq5+F7uBMeLq9pl4/Ay7Zd6RlMBA7ZvdGc5Oqn+xQLanymlspVS3/QStVUp9UUQXQ0JfgftsPE9csMDZkcY9556Sw8n+32ls5MqBfPiX8N6dmWbVOely+zmQtk7rU6uHl2hA0DcPLG6bxiQ+uFf/Yi27GMB7Vyl1CdKqf9USr2klPq7UmqGgatBh34H7d4Tr+sFUNiv+/T7X+q9u2XVdQLHGX7ouQ70jtEqsZd/9+TCZtk5qVo7uLD6Sfbyeyfr3bC3eX6bOZbs4wua9BYN7msmYKPVy2hBm6KUWqeUKlVKLe5dBFUWRFZLgt9BC9DsPfGG3rOLedmO7nGy8/AJQtay8jtaZfbS72DUJ9fn697U1IZ8qclP12HWzq26sHXAS+8aj3dBIwSxXuHOEh56rhpVEeQ8IJzndJZl64Us1msbCjPkyAL6njbKBdtX0OOHZ7NVQ0q4Ne0iQ+zRghYIDczRWnDa/ylBG7lXpYF6gV793lih/XiMcHpja3Ll/LpOPWSJoAML24sEc4Z+lMdA77x6SIkAhhji3TOtVsbX5ml3l5H2QhFFaadlmBj3gPeuk8u+XUU6UH68/j2G2GvzM3Rj8KaJ1Rq0kNH9MxlfOVTZR8PLAEkPKKVuVUrVK6VKDP+B74M+CVqCNtyGATx2wTk35svgMQnh5LBIJZQSezGtKi89qAeF3mxm6iAdz9aL7xztOwGA+RkpYuzto4c7vCJHgzeS+yJGMEYPAlCFS8wVg0u0I4JI7uP1ayGThZYhdoR4hIczTnEED7HHAtq/KaWs/38NoqshgaAlaMMBLRaGjRgzXiY1l2rYwGMSotk0Fmb6BjJw53Z8aYupYYHebUbqIFMEIK8b9HDeDyEIMcxuvfb6cZU6cIM1faDzzd3lkpueIhhGLslOEwR4QA9uoN/56XvURWsYRwC2ODstSG/9JJf+3jUW0BoQGt4hQUvQhgPae55/U2pKC7SD/YDiohLD4MGoBtK8/AmPMliYY3xHRALpqsg2pRm/9+vxvpn10l6SFSQXyA9zh9HI5eXV7fLQ7IY+37WItjSruUDP/8LVnt/Bi0YIolAZZQsH+migeEU2eB+EuDsRhymDWECbrpTaoZQ63/u/XSmFtH7/CFqCNhzQXnH7/bJwcIWpEqNCXzGyXA/jGSu3V4+fX94qlbnpOlg8Qm+hR4/YllyQEzwsh+FdDPduHVspmMuGTgCMkBdGQ2LVkV2Ta3RPbcuoCrlnep3Mby2Sitx0eWGFf3u5GC3oLM3S/nwhXzSE0bAZV5Mbs7xjLa94/B4RtDDnjChb0KPR1bn9NiDumlqrfRq3lmTJss5ik0eoQF5iAe1JpdQZpdSs3v/TSimk9ftH0BK04YD21sdPS2dNcE+kp7Vcrhtb6YmKHKiAF/tErwqrOrGnc9OIMl8b9ovJCd89s7hFG0UAEMYRQ+9YhTzQ7wb6HhDH8DF6NsZrl3QU+6bRZ3zvwDEaNIvai/Tc+IS6PKnJz5D20ixP6Oj+WfU6TOVTvRG0MGWzvLNYOzAJvH/gE6vb0cjbNalGN+4A2vKctCA5xALaUF6gQqX1gZegJWjDAS2iGtXVN8j6ERV6PhKKfu3YKikuLpaTn/zOZPACCs/P4J6e32SCXhX2HaM3G1itHasMYGyxIM96HzyjtTgzKN16ndfPsY5gd88FyED+XnjfnoZ8QY/d+C7QJ/RsnzOsm3h1TYcOHGBdS4HdAdZpn1hAC49Q8AYV+GsxeIkKpJk+CVqCNhzQ4pqnfvCFjJ08TTIz0vX/sJGj5NHzH5r2HBsrAo8JWjt0AMPDeRkpQXtyb5tSE7KHY0ceeM/E6nZXRY7smxG8TQlDw2hgBcpDN7ZCrA3AFifrWopYQDtbKfVPpdTHvR6i4BlqpomslhOClqANF7SB60599kc5+envTYANfIfPgNLzM7HGyE/yhhMMDBUj3BneG/Pn2MaCnpyf5OCXd8W2QszDG9/32JIWPUz+2tqOvnQsksI8rnWvNqa34GTG+PtYQAuMZiqlRvT+4/iifwQtQWuEZLyOjQrNYwI33jqA/dujqnL1vC9W22Jl7WUjy02GNN7P5P2Sp8dYNY197IDt/pn1cuP4Kr347dox5uFklBEWf2GoGCuUcX5kfpOUZqfpFevGMowFtNuUUkUGshYrpW4wnAcdErQEbbzgar2PUal5nDwj5WXZP7ukRRtQLFLz8nvy3QbLmZVtsnZYqXZ7OqkuT+4LMZQMOb20ul3wPaYXsCgK+4hDBaCIBbShYs8aQ+YRtBYfvlY48Dz+DQ8aCUKWOkAdSLQOnFnRJkcXNfdNL1ifHwtof6OUGmSgaapS6neG86BD9mjjDxbCOlimViXnOQ0vdYA6kEwdiAW0B5VSryulsCgK/zg+HERXQwJBGwwFgtIemSSzUvHZNOrUAeqAUQdiAS1C5W01eIa6TimFXm2/fwStPVAhrPuXq1HZeRyZ8cMKyx0TqnRwBzh/gPMGyjAyGVJelBd0IBbQBoCaoZQapZSqCCT090nQ9g8Eu2B53+l3ZMyMeVLV0Cyjps7R8XDtepZT70tjF7mxw8IfeLjBqsoNXaUyuCxbsI8Qiz8oz8jlSZn5W2bRgPZZpdSwXpgWKqV+r5TCfO3/opTa2B9kkU7QJha0dx9/XQqKS2XLngNy8M2P5Np7DwkCzt9+9Gy/+1KdCstY80VDF5mhw3YWRLEJyA1efxDoAK7oAmn8jEymlJd/5RUNaI0Lnm5WSr3TC9cqpRRXHTtopfHgUePlxoefNkF115FT4tcGDw1deIYOruUQ9/aNdd9uzofssKoSsYEpx/DkSDlRTgEdiAa0Rph+Tyl1paEXa/zOkHzh0K8GPtbeWLS/T8/MFHhWMv7+3Jd/l0GDBsm5r/5hSjde4/XjgPLzM7QhxNwsQBvYhB+QE/wII6JQ4JyfoeXnZ7kgRu30xgIdthAjIGic+VkegXePBrQfKaWW9M7L/p9KKfRk8ZemlPpD73HID4I2sUPH1Y0tsu+Fd01APfDqB1JSWW1K8zpYQ71foALwMzQsMDd76YiyPiOJaC0woNHGd6WcQ8vZS3KBj1843kc4QfgBhvcsuCi0Rj6y451PLmvVujm2JleHqsMaAzueE+09owFth1LqB0opOKww9mbnc3tPYkEaCiDGtM13PCBNg7vkyLs/0WB94rs/l7auUXLJzXt8D1rIKdpK44ffwY8rotaMqMzR4eAQem5oeXZf/FE/yIDvGFnjoL0kKyg0IWIpI5arnbJEr7koK1WvH0BsWETOAeAPWkIb2pmHge4dDWhD9lbDSfRLj9Ypw7Ivff1P2XDjHZJfVKJ7sXmFRbL6ult8PWxsbIgQthc3pAgNdvuUGrliZLl2QRcIqj6QUeH3F5erF+WDgAspg1TQFrBzq9olOy3FVtAiHi560Ua53jShOiiCjvH7RB8TtHFavASoXXH7fimvqceeKWnsHCa3PHbSET3HM7/4s6A3+8LP/90R+bHCLlHneP/NdzwoYyZOkSlzFsqdz7zUJ49EVzw+z38w8nKZY1V6fkaqWIds0auED2A73x0gR+AH4zPQSAwFfuM1iTwmaOME2k0775bGjqHywLnv6R7j7qNnpbi8Uu54+lyfMU8UUPic4CF8NDYGd42QUfWlgliiW8dWSmVxvqy/fldf+SSy4vFZBK3XdADh5bqrcvqgh1i+HaVZQb3NeL83VsI/saDJBFrM2SLKklOC0RO0cQDti1/8Te9PPXj+x31GG7DbceAZGTp2simNEAyGYCJksnXfY9JVVyLG4c/TK9okNztLjv3ol31lFG8jwPsRqH7RAQwfL+4o1oBrLMzUn5gvNdY5O2RxyfAyDXhsS8P9sS1tUn2+XhRlx/OiuWe0oB3c6984zzI3u8Bybjr16hztsx/+q+QWFPYZ6wA4jn7/CykqqwhKD3zPz8RBd+rcRbJ9fJWp1YsKM7a5Qm4++JypjKKpSPwNgUoduKADmJc9sqApYQvnAHhsJcrPSNGL97DyGYHXrdvTklk+0YB2h1Lqj72OKv6ulFpuoOk3huOgQ6+CFntTAdRHXv+hyWBve/BJ6Zow1ZRGuCYOrkZZz197mWwcYV4wgYrXUlkse557LWQZJbNi8tkEN3UgMh3AcPG+GfVyfKmztvagHKMBLdwtBnqyTb03uKmXqr51WHH5bfukrrVD7j31lrzwsz/JzsMnNHz3PPtqSCNuhACP7YfvQ6/8QIrycvo20GPuZtv4aqmqqhY0lPorAxq7yIwd5UV5UQeCdSAa0BpdMIKvgC721T7Wu7c2qCcbSPBqjxZGGquOr9n7qNQ0tUl6Rqa0DR8tWBDVnwFnuv1wtcp4632HJS83RwbXlklNaaHU1deLdV7d+huc03AEGw7KhDKhDoSvA9GA9sdKqe4APHs/4RXqrFLqvyzpplMvgzaUgWZa4mE6kMzhkhKjDPtf/I5uHA10feB7GpXwjQplRVlRB8w6EA1o6wxuF00gVUpNsSYYzwla54EnABKnfj774a80FI9//BtHjA7QgJgNCOVBeVAHBtaBaEBrZGdExwQtQRsu0M9+/heZtWqT5OQXStPg4fpz6RXXO8KrFQ3LwIaFMqKMqAPf6gBBG4d9tOHCg9eF39BYeuUN0t0zS05+8jvdk8Ve1/YRY+SyXfeyZ7vx2wpMY0ZZUAecrwMELUHrCHAZGyHwFY19yU9892emvN1/5j1BRCLjtck8poFzvoFjGbGMnKAD8QBtgVKqxPDf73Ayh47D79ElEyDJfjbcJaampQdtu4FjkJy8AseANiAnJ1Rk5oFAoQ44VwdiAe11Sqn/TSkFpxV/6/3/a7+UVUoRtARtAE4DfbYMGyk7Dx03QXXznQ/KqKlzTGkD3SdR39PIOdfIsWxYNsnWgVhA++9KqbKLgdX6HUFL0IYLPmzBKSguFQRruOfkeVmzdZc+f+jl7zsStHivZFdmPp9AoQ44UwdiAS2cVORYYXqxc4KWoA0XtLgO3pymLV0rHSPHyuw1l8qhtz52LGQD70VD50xDx3JhuSRTB2IB7aheT1DPKaWeNPz3y1qClqANAMnrn8ms1Hw2oUIdcJYOxALaL3rdLm5WSl1h+CdouZLZ8T3PRICexs5Zxo7lwfJIlg7EAtqLBhAIRVv2aNmjTQTgnPSMZFXsaJ+L2KHPLmmRsyvbOOfM/crUgTB0AAFKnlncov/7CzQfC2gfUkpdq5SqNmztwTaffv8IWoI2Wgg+9+Nfi1PcMEb6DtFCL9G/2zu9Tqry0qU0J00H7R5fm0fghmFoE11OfJ5zeuaPzW8SBLlHncE/jo/MbwpqoMQC2sCWHuMnt/dw2Diuw8aPnv9QBo+eINl5+ZKdmyfDJ06VI+/9NK7PiBSc0V7vZAN5dFGzIGD2/ln1glY5gmavGFwiw8qzg4yGk9+DeXMOhLxeFq+saZeirFS5ZVK1rjOoNzguzkoNCnofC2j77bn290WyerQHXvtAtj/8lDh5a0i0xtvLv3v+J/8mJRVVgv2zZz//q8CRxcab9khFXYM+duO7O9X4LO4olo1dZSaovrW+Uypy0+SJBcEtdKe+B/NF0CZKB7aPr5JJdXmmOoNnT6zLkxvHV5nSYwVtl1JqnVLqcsN/f5xNuMMKBGAfM2OeNtYT5i6Rsuo6GT5xmsCAu9FI+y3PV9/9iIyfvSiorIaNmyI7HjkWlO4W+STKEETyHBiH26fUmIwDft9dlSsYUo7kXryWsPODDmwaXiarh5QE1Y1VQ0oE3xllEAto71VKfaSU+u9KqdO9XqLO90vZJHiGQrQXGGr0hmCEz335d5m6ZI3MXXu5a420W2ASj3wuv2q7dlRhvdfCTVfrnq013W3nxoqY7OPLR5bLjKYCk3F4cVW7nqt9YQUXRiW7fPh85zVe9s+sl7qCDHlzfWdfvcEx0jAFYyyzWED7G6VUilLqX3vhWqmU+qGTQFtUViGH3/7EBNWn3/9SsnJyIwr67TYD7pT8nvrpH2TLXQ/L3HVXyGW33ifHP/q1qSwGyidcMCJiz0tf/7Pvd2gs1bZ0yJ7nXutLG+g+Tv7eWBmTefzS6na9EGpxe5Ecmtcoe6bVSmtxpqwcHNxiT2Y++WznAcevZYI52bE1uXrU594ZdYL/7qocGVeTq+dsjXKJBbTYR4u/r5VSCCwwSCn1h960kB+JnqPF4hk4ojcaWgwnp6alBTmsN17D49hXR6NBU1nXKGNnzpfLb9snUxaulOLySjn45kem8riYrF/84m/S1jVKehat0vPr+1/8joybtVC6Jkw1wfdi94j1O+ThwKsfyBPf/XnY+Y70mcYKmczjMyva9AIorJwcWp4tN024sMgjmXniswlWJ+vA+XWdcvXoCl1fUGdwjDRrnmMB7TNKqSKl1FalFPweY18thpD7/Us0aCfOXSLrt+82Gcgrbt8vI6fMNKVFahh5/cAgnr5snSCmrFFWiCU7cvIMU5rx+1DHJz/9vSzbvE2qm1qltrldVl93i6CxFOraeKftPHRCSoqLpaa0UApys2XYyFFy9Ptf2PJsa8XkOQFDHfCODsQCWiNQm5RSI4wJoY4TDdoj7/5EL4SatnSNXHvvIZm1apNgOPnRN35ki7GMt6F38/3yi0rk6L98bpIzAJmWniFnP/+LKd2J74mV6gV5OfLI3EbdOsXcy8YRFdLS1m5rb5rG1TvGlWXJsgzoQCyg3WKBaapSCguk+v1LNGhhwDF0vHHHXXoR1Lptt8uxH37jeCPvRPBEmidsy7EOE2OONiMrSzAcG+n9En39/LWXyoYRFaYhIMzJoHd7/9n3bM1/oHLyk4aaOuANHYgFtC8rpf6l1zPUMKXUl0qpQ/1SNgmrjhNtnPm8b4eUseJ74rylfXPhWNA0f8Nm6Vm82lZIxasMJk6fLTsnVZtAC6M3uqlCdh153vZ3oIH1hoFlObIcoQOxgBZMXa+U+h9KqX8opaZcDLL4Lhk92ngZXt7nW4iGI4tTn/1R71murG+SGcvXS33bYGnt6ha4Ugzn98m+5vJb75MJTea9cC+uapPc7Cx55oOvE/IONNI00tQBb+hALKBtV0r9TCmFMHmfKqWeHSg+LUEbGaySDZtYn49e7L4X3hU4nrj7+Ou2zm3Gmlfr7+HUpL6xUWa2lckDs+rltik10lBWKCuu3JoQyBrzQ2PrDWPLcvRvOcYCWmzlmd3bi8XWnl1Kqd9drFdL0PoLtEZYuPEYQQxWX3OTtHd2ysix42XHgWeS1ligkfavkWbZu7/sYwEt9s5a/zqsCcZzgpagdSNwnZJnGlz3G1yWoT/LMBrQ3m6A51rDMQ4ROq/fP4KWoHUKtNyaDxpqfxpqlru7yz0a0H5jIKnxGMnWc8OlXAzlVuPOfDuvgUTD627Dy/LzV/lFA1p4gAr8GY+RZj0PXKc/2aN1nsEmRN1bJjTW/jLWLG/3lnc0oDX2Wo3HgKn1nKBlIPiEr9L1U+OBxte9xjdRZYeAEfDBO7+tSLaMqhCcJ+rZfM4F/YwGtP+llPq/lVL/j1Lq/+s9Dpz/TxNZLSfs0bq39+QneLntXWnMCNv+dOD40hYpy0mTqQ35ct3YSpneWCCl2Wny7JIWwnZj4vQmGtBa8Bn+KUFL0LoNYm7Kb3/GlumJM6hOk/WU+nzZNMLseOWKkeUyoS6PoCVoCSS7DDx8P8PZvzHGq13P4n0Tr8dOM/TMj/2Qf3l1e7/DwZmpg+TcKvNQ8Str2iUtRQXFTGVZ2VdW7NH6ZA716fe/klE9syUnr0AKSsqkrrVD9p54g/OnHix/Gkz7DKaTZIth4dHVuZKVlqL/uypy5KlFzaaean5GqpxY1mpKO7W8VXLSUwha9mgT3xPwcu8LvdemwcNlxdU7dCxXnMMxPkLZ2RnQ3Msydfq7OQkIzEv8wY/g4lV56XLZyHJ5Y12HDjaOOVjMv6LHGpD5ko5imdFUIG+tvxCM/O0NnTKnpVAWthX1XRO4lp/xL6eATNmj9WCPxgqBe55/U/dgrcPFCy/ZIiuvuYm9Wg/rQKCi89M+I5oM2e7uqZHhFTlBsJxUlyfbxlf1pQO6IypzNJRnNhVITX66oOdrhHEy8u+3ZxK0HjayAeBuf+ioTJi7JAio19xzUKYtXRuUHvgdP70xsuI3o+aH972yu1yWdRb3ATXwzpcML5M1Q0tN6Yij/OjcRrlxQpU8MreRQ8YJHDIOlAtB6wPQPvbOp1JQXCoIXWeE55gZ82TzHQ+Y0ozf89gboEU5Bio8P73Rs90/q14aCjP6hoRRrgDq4LJsuaOnluWdBJherG4RtD4ALQztzJUbpbN7nNx57GV54Nz3ZPbqS6W2uV1O/fQPBK1PdOBihoDfuQvAgCqGhCfX58vh+U3yxIImmdVcIO0lWfJm73wsy9Q5ZUrQ+sTInvvy73Ll7v06+DpWHC+5fKtgqw97rd7ptYZbljTAzjHAsZTF62s7ZN2wUqnNz5DqvHRZNaREsNUnlnvyt/boBkHrE9CGa4R5nT/AS4Nqj0GlXCnXUDpA0BK07NX6VAdCGQSmERTUgfjrAEHrUyPLnqs/eq4DlTONavyNKmVKmVp1gKAlaNmjpQ5wXs9hq1Sthprn7oY3QUsjS9BSB7QO0Ji725iz/JxbfgQtjSxBSx3o0wEaa+caa5aNe8uGoKWR7TOyA83n8Xt/zOvSoLvXoLPsnFl2BC1BS9BSB0LqAI22M402y8V95ULQ0siGNLLsvfqj9zpQOdOou8+os8ycV2YELUFL0FIHLqoD4RruY0taZO/0OkGc1HB/w+ucBwWWSfzLhKClkb2okR2ox8Pv/dPz7c8AwxUgwrMVZaXKqKpcKchM1X536XM3/ga7vzJgurNlTdAStAQtdSBsHQhl0BFcvKchXwcfx/cA7+jqXNk4vIw9W+7PpQ5sHCwELY1s2EbWbb3XvSdel7Ez50tjx1CZsXy9HHzzI9e96+nP/iTHfvRLeenrfzom70bYvr2hU3LSU+TU8laTQX1iYZNU5KaZ0oy/47Gze2Asn/iWD0FL0MbdgB9662O5+/jrcuKT38b93uHCfscjx6S4vFIQ3B5hAdfdcJuOyfvI6z9MWp7CzTuuQ+zgWas2SXZunuQWFEpNU5vc9sQLjsl7wBBjeDhlkOrrzQbSz65s0wAOnPMzvoab8nSXPAlagjZuxvvZD38lw8ZN0YBD7Nuc/ELZcOMdcbt/uKA699U/pLKuUe45ed707E237JWJc5eY0sK9Z6KvmzR/mUxesFwgU/Rm73zmJSkoKdONhkTn5WLPg8HvqsiRHROqTL3Xzd3lOlYqgeAuILC87CkvgpagjRt4untmyeLLrpUXv/ibvufR738h1U2tsvPQ8bg942JGP/AdhlrzCouChluPvPdTKauqTWheAnmK5POpH3yh849hY+Pv0FCYtnStKc34fbKOD81rlMLMVFk5uER299TI4vYiKc5KlacXN5vgSyNujxGnXJ0vV4KWoI2L4Q7A4cwv/my63/aHjsrIKTNNaXYD4YWf/7vk5BXI0+9/ZXru7UfPStvw0aY0u/MSzf3vO/2OtHZ1B+Vzz7OvypAxE4PSo3lGvH+DLT0IPD6hLk8HI7fO2RIGzocBy8i+MiJoCdq4GO4Dr32ge69WA37P82+GhIb1unifL9i4RUZPmyPHP/q1fr8j7/5Eals65IYHnozL+8Y7v8b7YW4bw+7PfPC1Ka9LLt8qiy69xpRm/F2yj2mo7TPUlK27ZUvQErRxMdxnP/+rFJVVBM0hzll7mSy98oa4PCMSkKBnPXvNpbpnW93YInlFxXLJzXuChpMjuWcir11x9Q5puTPL+QAAHs5JREFUGtyl52Yfe+dTvZgL8n3ye79IuCwjfW9Cwd1QYPnFv/wIWoI2boYbw8SAAeYSb338tJ5PxKIkzJlGaqzjdf3xj38jB8//WF74mXm+M173t+s+WACFFdMtQ0foeeWexavl8DufJk2Okb4njXX8jTVl6l6ZErQEbVyN9/1n3pPpy9bJiEnTZc31u+S5H18Yuo3UUPN693ucIhjcCwaWXXzLjqAlaOMKWgIyNkBixfbNB4/L3LWXy4otN8rhtz9xdfnQYMfXYFOe7pQnQUvQutqQewnsZz//i4ycPEMvHrts172CxU/5RSUC5xtuf08Cwp2AYLnFp9wIWoI2oUYce1kBkStuv1+wz9btAIln/q+956AMHTupbx8y7v3Qy9/XsHXbHHMoudBox8doU47uk2PCQYtN+NhiAY9Be557zTWrQEMZDqZFNkx66S336NW/cC0I38NwLXjdfYcJ297G3riZCwQLyqx61TFyrGAPrTXdjeeEhPsgwTKLvcwSCtq61g4prarRDgwWX3ad3tc4fOI0gYMBNxoN5jl80GLlb0FxqakXi/lHwPbp979k+X/zH9rl4pY9B0yywOrj+rbBAicWXtE3Gu7YDTdl6C4ZJhS0mdk5svmOB/oMBhZ+wKnA+u27+9K8Ykz4HmYIr73hVlm46eqgcp66ZI1JJ/wst9uePKOdfhhXat/48NNSWd8k8N/sNdkQFu6CBcsr+vJKKGhTUlNN808wHHD8jo35XjMifB8zaNds3SUYxbDKBVuBrrh9f1C69To/nKP3uvyq7drPMQIKwN1iSUWVnqf16vvTeEdvvCk798gu4aA99+XfTUb1vtNvS2PnMFOaV42Kn98LLhrhzOLYD7/pK+snvvszwSjHJTff3ZfmZxkF3h1ywdz1riPPi9V3dOAaL30SGO4BBssqurJKKGgzs7K1t5uAkcBw2PjZi7Rjg0AaP809QS/JAzFhsV1l/vrNMnf9lfp40WXXClwkYsWtl96V7xKZHtOAR2fAKTd3yC2hoK1tadexSsfNWigrr7lJmgYP18Nj1nBgNFKRGSk3yaumuV0wL4tV5/Dhi7zve+FdHT/WTe/BvNqjowTHwOA4Mr9JZjUXytDybFncUSzPLW1hOMKNA8stmbqVUNA2Dxkuz//k3+SavY/KqmtuFiz+sA4l04DZY8CcIleMakAHjPnB3OSglJSg+XvjNTz2tl4YyzeZBtHpz943o17H/t3cXS4PzKqXtcNK9fnRRYz96+SySzhojRWKx/4xnoGyhpN8xIUNnOMT8/RVDc2mNOP3PPafnjjZaCYrb+9s6JTmoky5e1qdqQd71agKmVyfb0pLVh753NA9a4KWnqESCridh47rvdS7n3pR75+++/jreth4677HEpoPwtv58KbRNhvtV9a0S2bqIHl7Q6cJqs8vb9W9WsrLLC8nyYOgJWgTDjg4zceWrtS0dKlv65Qb9j+R8DwQtM4HbaCMEmUw0WO8ZkyFVOelS3rKID0HiuHZRD1/oOe8ub5TctJT5NTyVlOeHprdII2Fmaa0ge7F7xMLZYKWoCXkqAOO14FEgOHSEWXSWpIlB+c1ymtrO+TWyTW6p/jo3EbHQGxpR7FMrMuTV9d06DydWdkm7aVZcu2YSsfkMRFl5bZn+BK02Fa098Trsu3BJ+XIuz9xvJEJtOz56Z5eGMsq/mVlp3F9Y12H5GekynHLCt6tYytlUl2eYyCGfGLFcV5GirSVZElueoqsGVoq6I3bKR/eO7YesO9Ae/RfPpeG9iHaf+zEuUv0Xs7Zay71pIs7txl7rD5GoImFl2yRpVdcLw+98gM2gtjbNumAXQYfW2QqctOCYIXVvLX5GUHpduUj3Pu+sKJN0NN+aXW74/IW7jv46TrfgXbY+B7tIANGHSA69dM/SNvw0XL13Y+YKrTbIOX2/KI80OCB8wrsscU+a3iSuuzW+1guDoHtA+e+K9OWrpWhYyfrWLnJDHMYiZE+uaxV91Qv1ut7fS16tCmCa4333ja+SibUOqdHa8wbj2PrZSZSfr4CLaLE5BUWCQJsG8GE/byDR403pRm/53H8hwGtMtWrj+ubdMMn8B1GHxDd56kfMG5tQCbJ+oQ7yMLSctl0y16585mXdICI4vJKQXzhZOVpIEOJ3ijmLwszU6U4K1VvjXlsfpMJpMZ7rO8qlc7SLHliQZO8tb5T7ppaK0VZqfLwnIZ+f2P8PY/dA75El5WvQAtPRCWV1UExcLGPk4EN7IfpxQzy4suuFUT4sV4zeeEKk9tO6/c8t7/csKYB+5wxrG+UN5zOzFixwZRm/D4Rx/0ZTPRQS3PS5IZxVRqa2BKzc1K1Bmd/w6245orucinNTpNBSkl7SZbcO8O8Z7W/5zGdkL2YDvgKtDAYGJo0OkzAkOW0pWtkxdU7kmowEmGUnPwMRK1ZtnlbUBmMmT5XbnjgyaB0J7+L1/KGEQXEEg5MtwTeDzGGK+saHVE2ViN3y6RqGVOdG9QT7WnIFyxwsl5vPbfuVbV+z3OCNRId8BVoYSD2PPuqXgCF2KiYlx3VM1svjjr+8W8cYTACRswvnyc//b1ccvMe7fMaw8Q3Hni6rxwQ7BxD/Sc/+V1fml/k4qT3hMvM7Nw8sdYRNFixvsEpeTUaviu7y2VpZ3EQUDd0lcq6YaVB6cbf8tj9EH1xVZvg3yll6TvQwig8/p3PdA8WsVABWwY1sH/4MZQxBmSxAnzC3CWy8/AJufy2fZJXWCxw0zhq6hwNWePoQ6h7MC0xZYdFUBj5eeFnf9Jgffr9r6SxY6gO5+ekMggYVsyr1uRnCJw8BNIw79panCl7p3M4OCATr30+vbhZuiqy9bYnbH3CMdKS/Z6+BK2TDIOf87Lxpj2CLVbGIcnD73yqe0/X3nc4KPiAn2WV7HdHr3b8nMV6NKita5Tk5BfqwCDGskt2HgPPh1HFCuPxtXnSXZUr98+s1w74sXp4eEWOnrNNtuH18vOx1xfz4auHlMiOCVWC+fJEvC+eU5aTpr17oYGFfzjyQFqi8tDfexK0Dtk6ETASfvocOXmGDm5ufef2EWO0QxFrOs8T03u9mJyf/N4v5N5Tb8mJT37rmCHj/vJ7fl2nwOE+VhJjYdNlI8uTbnD7M8ReST+zok3qCjKkuypHNo0ok3E1uVKZmy4nLNum7HjfmydWy9ia4Hl5pN00sTohsO/vvQhagjZpBnPKwpWy+Y4HTM/HgrWy6jp55PUfmtL7M6ZMTz58nVwG/Rm+RKdfbA9vovNi5/NmNxfKisElJqhdMrxMJiUgutCm4WW6F219P3jOQh6s6Yk8J2gJ2qQBDXtny6pq+9xgArLrtt0uGJp04pCkk4HCvPXf4EikQbU+C/PB8J+slNKep64eXeFpd4lwDWkNeoCoQ2kpKijqkFVWsZ7fO71OWoozTc/B6nGk4btY7x/L7wlagjZpoAUcrty9Xzul6OgeJ+U19dLa1S1wVEFw9A8OyiZy2cRiJKP97f5Z9dpRBuLHYiHWkflNGrqXjShPqtGP9n3C+V1BZmrQMPG5Ve2SESK8Xzj3i+QaQBWLn6bU58uheY36f0pDvgwrzzbBN5J7xutaT4MWHqAwpxRYKUkDFbmBSoTMsNAGzhAOvPoBe7Js+NnayIqX4QznPqOqcgXzhsZrn13SIoAR5o+N6V45XtheJHNbC/t67Rgyx1Dy9MaChLwvoi5hC1d9QYb+h7cvpCVbvp4ELYYdL73lHikoKZOSiirdY1qx5UY59+Xfba3EiYASn+HMxgLLxT3lkiijW5GbLgCr9Xlw62gdXrVe49ZzeN3qKM3Sw7XYx4yFaE1FmYJwfm59p3jkOymgRU/z+vsfl6lL1siCjVvk4VffjysAr7vvsNS2dMjBNz/S98VQZGf3OB1MgAbRPQaRZcWysksH4mE8B7rHmJpcvb3FeN0zi1u072Xj/l7j9144xhAuXFdu7i6XwLC5F94rlndIOGhf+Pm/y9Cxk7QnoGv2Piprtu7Szsq33n8kbrDFRnqrX9bDb3+i3chhwY1dlZf3JRioA+7RgVgMZzi/fWh2g/atfEdPrd5WhLB2zUWZAq9V4fye17jfQ1WgDBMO2i17DsjwiVNN8V8fPf+h9gJ06rM/xgWCcOX37Ie/Mt0Lw8npGZn0AsU5QJNeEIzuAaNdZRUwhnZ87ptRL4PLsvWq25r8dO1n2Y6tPrjnTROqNcjhEWlkZY6jog5hThreutDYwMIwO2Tt5HsmHLRjZ86X7Q8/FWTsMLR757GXg9KtlQvzrHDV1zR4uFTWN8m89VfKMx98bfrd8InTZOu+x0xpdx17RQ8nc9sIDatVp3hOnXCykQ4nb9g2BEcR+2fWax+/WISF8IAAWzi/t/MaDCMXZ6fpFdeNhZnagYUT8mXnO1vvnXDQ9ixeHeSkAPCrbW6X+8+8Z4JjKAM4c+UlOnbs3hOvy6Nv/EjHxUQEEaOnGoS9Q7SRzXc+KIfe+lhu2P+EIHbmzQePD3j/UM9kGg0xdcD7OmA1jm45x3wvFlgh/q4xz9ePq0x60Hos+srPSBUMowfydufUWt0IcMJq4ECe7P5MOGjRa62oaxA4JQ8Yr2vvPSQ1TW2m4eTAd8ZPBJnOKyo2BQfH95PmL9OrjI3X7n/xOzJu1kLd64WrP/Rojd/z2PuGk2UcWxkj2MZVdz0kE+ct1SNHD738fc/XIbsNbrj3x1ArIBXOoilch8D21ntjxTPcH1rTE3mO+L7zW4uC8gDXjPCHnMi8JPNZCQctjN/67bu1U3LEGm0ZNlKDF73TgQzjTY8+Kxh6tl6HFcyTFywPSrdex/PYDC/lFx/5YfTl2A+/cbS+nvrpH3QUpe6eWXqHwNobbtWLFrc96I/YwMkyylixu7G7SvJzsqWwoECK8nLkqjHVfftSQ+Xr/LoOyc9ICXIUgZi88Dkc6jeJSkNggY0h3B8uaCsSDHcnKh/Jfk5SQAuDDUOz45FjuqcZ7v7WB859Vweatq4cXnzZdSGDhhMM8QED5RgfOWIUB41LxHbFgj2EAwxnuiQZ8t+08249ImRc04BteJiSwc6BZOQp0c9MhnG+fFSVtHUOEYze4X0Pnv+x1DU0yPbxF+/9wTHDkLILIeGwMApztaXZaYLFWMl4j8Az75tRLw2FGSYHHXDJiDnbJxY2JTVvgTwm4jNpoI2m0qDSY9EUgrajxQ3g7jx0XIfuCihmNPflb+IDEsqxfzlCV5sGd+kGIYZk0bjc/tBRDa6n3//SceDCzoBbHz8dlK/mIcMFayD8UtaJMMKBZwCQxfk5eu2JUb5Yj1JfHjz8GvgdPtETvnREmZ77TE8ZpBdG7e6pSTrIkK+JdXm6EbBrco2OooMtTgvbLv4+xnfzwrGrQAvle/bDf9VxMbNycvWWIOyZvefked9UfGMF5HH/YHOabBBAAUHujT1E5HH2mktl3Q23OU5/x89eJFg7YZQjGguIrBTONI/xd24/TpShx7xsSkpKkI5gqiErMyMsaAJsWGRkxxaiaOWA7TyIS4t4wIjic/uUGkflL9r3iuR3rgNtoNKe/PT3eluP1XAFvueneyDkh7LCdjOEBbS+KxYbYSW9NT3Z57c98YJUNTT3bZ1DPYNbUwx3+7XORWJYo722obxI7nj6nEkfMPLRVVcaFmijfS5/Z69zDNeCNtmGiM8nyCPRAfQCscXMOr85etocgROXSO6VqGvR087JL5SRU2ZKXWuH1Ld19s0dJioP0T4HbleXbd4mo3pmy8JLtshj73waFxnbDaQ7ptZKcVGRYNHZkXd/Itfcc1AK8vPkgVnJnWu1+729fn+Clp6S4mKAojWIfvodVsZ3TZgq9zz/po5UNHft5Xr/eLw8otkhy2M/+qXc8thJPS/rlp4sFhAVlpZrwO468rwsv2q7XscRr4VndkNh38x66W4ok4qifBnbVCYH5ny7B9XuZ/P+9vRsCVqClqBNkA6c/fyvcsnNewTrCjAsi0V9WHNgByAjvScgikVOl916n15giMAfkd7DKddjfnnTLXtN+YfTmsGjxpvSYskvgWQPkLwqV4I2QUY2lkrN33KY2k4dOPOLP8uoqXM0/OHSdMiYiXobnVtX8ufkFQT5OkcjJzUtTeLdgPAqGPhe8W1IELQEbdxa+XbCgPe2r7Gx4cY79Fzmi1/8rU8X0PMeNr6n79xN8i+vbZCHXvmBKe9Hv/+FZOflD+h9Lpr3tAtK8Ph0aF6jvLom+YHL7XpHv9yXoCVoTQYpGkPD39gHwUTIFkPZ1r2x6PmF6hkmIj+xPmPdttv1XPjzP/k3rdtYgDZh7hId+zrWe/f3+3gCA2DtaS2X3JwcaWpqkrzsLLl8dJXvtsTEU6bJvhdBS9AStD7XAawohtc1I0TgUCOvsKhve4/xO6cfo2eOLVPI/7BxU7RTkIlzl8gLP/uT6R3j/R7xMuYz2yukZ/6SvpCeT3z351JbVye3Tk6+A4p4vaPf7kPQ+tzIxtvY8H7u692u2HKj3uNrXFUMZxVtXaNsBZPduoLh4jufeSnhW5JigcjLq9slJzvLFI0McsLK72F1ZdxLuzG+c6exlFUkvyVoCVpXG1O7jbUf7g/nL61d3dLRPU4H/MA2JGyPgW9jP7y/He8YiRE2Xnt8aYuUFBcFyf2R138oNaWFBC1Bqwb8g59UO5Sa93RfL4pl5qwyw6pcRMdaesX1cuXu/XL849+wrsbYCDcCNNxjuCssL8yT+06/Y5L/qqtvlLkd5QQtQTsgZxVB6yzjStixPKgD9upAuIA1XnfrlBopLiqUzbv3y94Tb8jiTVt0sAH0do3X8dg9w8gcOo6x1UpDZa+hSoR8D775kUxftk47/UcYuz3PvWbqTSQiD3yG+/XoYmUYKRThDaqnrUIG15bJ0iEVcnJZKyHr0t4syp6gJWh9DRXMfSHGKraEPPjSv+iINSUVVbLjwDO+lsvFoMHvomsURApbXu+eHutAZUXQErS+Bsqk+cuC3PXde+otqahrsMW5ASEVHaS8IreBDDK/Dw3XR+c2ysLBFTKjvUJ2TaoRzGW7SVYELUHra9AiviqipBgNOba55BeVuHIPqfE9eOxcqLsJEsnO69Vjq6WkuFg2bN8tV9/9iHQMGSZjGkpdBVuClqA1QcZvxrl9xBhB7FXjez/zwdfaK5LdDg6Mz+Sxc6FoV9kkG2BueP6Lq9okNztL4LQjUA5wSNI+eKirHHgQtARtnwIHFNlPnwiqXdPUJod745Ue/+jXggVR8zde5Wu5+EkHkvmuboBdMvO4u6dGRk+YFFQXt9z1sMCDViR5u3NqrbRXl2hwd9aUyt7pdRH9PpJnWa8laAnaICVOpuFJxrMvveUePVSM0HUIdD57zaWCiDbJyAufyZ6t1Uj7+fy+GfXS3tkZVBfXXb9LFg8JH7S3TamRsrJSufXx0/Lcj38tOw+fkOLiItkzrTYhsCVoCdogJfajsYfjeWzzOfHJbykP1omk6ICfgdrfu7+5vlPKCnK1M5WAXXr8O59JcVGRjmzU3++s6fVlRUHb9gDdtqoSgjYgWH76r5XPMmeZ+1EHrIDg+WB5bH6TlBXmSmt7h3SPHa+Hfq8dVx02IN/e0Il9rGL05Q3dOv3ZnyQ9LTXs+8RSFuzRsvWelNa7H40o35mNh3B0IBaD7tXfYjvPvpn1ckdPrZxb1R4xHCuL8+X+s++ZbN3dx1+XhvKiiO8VjYwJWoLWpHzhGAJeQ2BQB+zVgWiMOX8Teg8u5HL9uGqpq6+Xh17+vrZ3gG51dbXcPDExoQcJWoKWoKUOUAccqAMEZ//gjFQ272zoFAw3lxXmSXpamlQU5cu2CeEPP0f6POv1BK0DKxh7C/b2FihfytdNOmA12jyPHsAA7utrOwSfiZQjQUvQsjdDHaAOOFwHEgkFPit6kPcnO4LW4RXMTS1v5pU9ReqAfTrQnxFnevzBGG+ZErQELXsz1AHqgIt0IN4Q4P3sBzVB66IKxt6Cfb0FypaydZMOEI72wzGeMiZoCVrf9WYefvV9ufy2fQI/x9i07iYDy7yyQRDQgXiCgPeyF9wELUHrG9Cc++ofMmPFBkFgd/gzHjllphSVVfTtrQsYMH4SZm7RAQLSXkDGS74ELUHrG9Bef//j0jJspKkXu/3hp3T0Hqt7NrcYWuaTjQLoQLyAwPvYA26ClqD1DWhH9cyWHQeeMb0vAFtZ3yQYTia0CC036wAhaQ8k4yFXgpag9Q1ghk+cpsNjWY1pbUuHPHDuu76Rg/X9ee6dBkY8oMB7xB/YBC1B6xvAXHXXQzJsfI+8+MXf+t75zmMvS1lVrZz78u99aQSPd8Djx7IkKOMPylhlStAStL4BzNnP/yLdPbOksWOorL3hVr0wKq+oWPY8+6pvZOBH8Pj1nWOFA38fP2ATtAStryCDlce3PXlGll5xvWzaebc888HXvnp/v0LHr+9NWMYPlrHIkqAlaAka6gB1wMM6EAsg+Nv4gJqg9XAF82srnu/NOVbqgFkHCMz4ADNaORK0BC17M9QB6oBPdCBaUPB3sYGaoPVJBWML39zCpzwoD7/qAKEZGzSjkR9BS9CyN0MdoA74TAeigQV/Ez2gCVqfVTC/tuL53uzBUgfMOkBwRg/OSGVH0BK07M1QB6gDPtaBSKHB6yMHNEHr4wrGFr65hU95UB5+1QHCM3J4RiIzgpagZW+GOkAdoA4wAtBG+2BL0LKC0chSB6gD1AGtA5H00nht+GAmaFnBaGSpA9QB6oBJBwjR8CEajqwIWlYwUwXz6xwV35vzs9QBsw6EAxBeEx6QCVqClqClDlAHqAMhdYAgDQ+kA8mJoGUFC1nB2Lo3t+4pD8rDzzowEEj4/cWBTNAStAQtdYA6QB0YUAcI04vD9GLyIWhZwQasYH5uyfPd3d+TPfOLP8vZz/9CPY+DrbsYTPhd/yAmaOOgfDTG7jfGLEPvleGR934qo6bOkfSMTEnPzJSJc5fI0+9/ReDGaPMI1P6B2p9sCNoYlY4G2nsGmmXq/jI99dM/SFl1nWzccZec/uxPcvLT38uyzdukrrVDXvzib4RtHOxef1BhejCICdo4KBwNs/sNM8vQW2V4zT0HZcyMeUFAbR8xRnYdeT4oneUfXfkTqsFQDSUTgpagpdGhDnhOB9B7XXfDbUHvtWDjFtl0y96gdII2OtBCbqHAwjQzgAlaGlkaHeqA53Rg24NPyrBxU+Slr//Z927nvvqHNLQPkTuPvdyXRsBGD1ij7AhWM1it8iBoaWRpdKgDntMBrDSub+uU+Rs2y+Pf+UwOv/2JTF2yRjq6xwmAa4QEj+MDW8jRChieXwBwQkGrlPrP3gd+xU9FGSjKgPWAOkAd8IUOgH38owQoAUqAEqAEKAFKgBKgBCgBSoASoAQoAUqAEqAEKAFKgBKgBCgBSoASSJwE/ksp9SvD/x2Je7Q6pZT635VSv73IMzuVUh/35u/flFLHL3Itv6IEKAFKgBKgBBwngf83iTmappQaPQBo31dKLTfkcbjhONrD1Gh/yN9RApQAJUAJUAKRSiAUaAuVUn9USqE3ib9XlFLX9B4f612J+jul1L7eNHz8XSn1cG/PE6vWAVBA8i9Kqa2G66yHTQOA9tdKqTHWHymlAMtDvb/FNTf2XjNbKfVLpdRvlNI95szedOTvEaXUN0qpDUqpeUqpn/eev6GUygvxDCZRApQAJUAJUAIxS8A6dLy+945ze0EEKP3A8JSS3mOADkO6I3rPAbLre4+PKKUAv3ylVLlS6r8bfm89HAi0m5VS/5dS6vtKqZ1KqaLeG+BZ55VSab3nyFeWUuo/lFIdvWlnlVI39x4jf7f3HpcppT5VSuX2nu9WSt3Te8wPSoASoAQoAUogrhII1aMNPADzof+HUqoukNDbO0WvECDF/juAGH8AWW3v8VVKqRO9x/j4pwGQhmR9OBBocVGNUgr3fFcp9QelFHqpbyql0Bgw/o3sBWggDb3bt3pPkL/G3uMlSqn/YZiX/r1S6vnAj/hJCVAClAAlQAnEUwL9gTZFKfWT3h5iYF60WSn1Z6VUcW8GXlBKXdl7DJChp4g/pD3Ve4wP43eGZH0YDmiNv8HCKQwlRwPaQP6W9g6HG+/LY0qAEqAEKAFKwBYJ9AfaXb0rfKf2zsmmK6XQY/xXpRQgXNk7JGw3aBcopfBs/FUppf7X3k/M+4YaOkbvua33ejQEbuo9NsIew9nG6zCEHBhu7r2cH5QAJUAJUAKUQHwkYJ2jPdC7CApbaTDHir/HDAufAK8/KaU+7B2WjQW0WGQFcP5PpdR/U0pt6X2e8QPPxsIsAB7/l/Z+iblZfIdhX6Rv702/2GKoQI8Wl85SSn3ZOwSOYfBlxofymBKgBCgBSoASoAQoAUqAEqAEKAFKgBKgBCgBSoASoAQoAUqAEqAEKAFKgBKgBCgBSoASoAQoAUqAEqAEKAFKgBKgBCgBSoASoAQoAUqAEqAEKAFKgBKgBCgBSoASoAQoAUqAEqAEKAFKgBKgBCgBSoASoAQoAUogAgn8/4/JnkwesBFAAAAAAElFTkSuQmCC)"
      ]
    },
    {
      "cell_type": "markdown",
      "source": [
        "## Test Logistic Regression Adagrad"
      ],
      "metadata": {
        "id": "6yCBtk-rKs3_"
      }
    },
    {
      "cell_type": "code",
      "metadata": {
        "id": "QYWPMOT9KqJ2"
      },
      "source": [
        "# Test script for training a logistic regressiom model\n",
        "#\n",
        "# You should download the hw2.csv first and load the hw2.csv file in the below_logreg1\n",
        "#\n",
        "# This code should run successfully without changes if your implementation is correct\n",
        "#\n",
        "from numpy import loadtxt, ones, zeros, where\n",
        "import numpy as np\n",
        "from pylab import plot,legend,show,where,scatter,xlabel, ylabel,linspace,contour,title\n",
        "import matplotlib.pyplot as plt\n",
        "\n",
        "def test_logreg_2():\n",
        "    # load the data\n",
        "    filepath = \"\"  ## TODO: Load the hw2.csv file here!!!!\n",
        "    df = pd.read_csv(filepath, header=None)\n",
        "\n",
        "    X = df[df.columns[0:2]]\n",
        "    y = df[df.columns[2]]\n",
        "    n,d = X.shape\n",
        "\n",
        "    # # Standardize features\n",
        "    from sklearn.preprocessing import StandardScaler\n",
        "    standardizer = StandardScaler()\n",
        "    Xstandardized = pd.DataFrame(standardizer.fit_transform(X))  # compute mean and stdev on training set for standardization\n",
        "    \n",
        "    # train logistic regression\n",
        "    init_theta = np.zeros(d+1,)\n",
        "    logregModel = LogisticRegressionAdagrad(reg_lambda = 0.1,init_theta=init_theta)\n",
        "\n",
        "    # Test nncomputeCost() function\n",
        "    X_temp = np.asmatrix(X.to_numpy())[:10]\n",
        "    y_temp = np.asmatrix(y.to_numpy()).reshape((X.shape[0],1))[:10]/2\n",
        "    theta_temp = np.array([0.25,-0.5])\n",
        "\n",
        "    \n",
        "    # logregModel = LogisticRegression(reg_lambda=0.1)\n",
        "    logregModel.fit(Xstandardized,y)\n",
        "    \n",
        "    # Plot the decision boundary\n",
        "    h = .02  # step size in the mesh\n",
        "    x_min = X[X.columns[0]].min() - .5\n",
        "    x_max = X[X.columns[0]].max() + .5\n",
        "    y_min = X[X.columns[1]].min() - .5\n",
        "    y_max = X[X.columns[1]].max() + .5\n",
        "    xx, yy = np.meshgrid(np.arange(x_min, x_max, h), np.arange(y_min, y_max, h))\n",
        "    allPoints = pd.DataFrame(np.c_[xx.ravel(), yy.ravel()])\n",
        "    allPoints = pd.DataFrame(standardizer.transform(allPoints))\n",
        "    Z = logregModel.predict(allPoints)\n",
        "    Z = np.asmatrix(Z.to_numpy())\n",
        "\n",
        "    # Put the result into a color plot\n",
        "    Z = Z.reshape(xx.shape)\n",
        "    plt.figure(1, figsize=(8, 6))\n",
        "    plt.contourf(xx, yy, Z, cmap=plt.cm.Paired)\n",
        "\n",
        "    # Plot the training points\n",
        "    plt.scatter(X[X.columns[0]], X[X.columns[1]], c=y.ravel(), edgecolors='k', cmap=plt.cm.Paired)\n",
        "    \n",
        "    # Configure the plot display\n",
        "    plt.xlabel('Exam 1 Score')\n",
        "    plt.ylabel('Exam 2 Score')\n",
        "\n",
        "    plt.xlim(xx.min(), xx.max())\n",
        "    plt.ylim(yy.min(), yy.max())\n",
        "    plt.xticks(())\n",
        "    plt.yticks(())\n",
        "    \n",
        "    plt.show()\n",
        "\n",
        "    correct_weights = np.array([0.502,0.96 ,0.861])\n",
        "\n",
        "    if np.linalg.norm(np.around(logregModel.theta,decimals=3) - correct_weights) < 0.01:\n",
        "      print(\"Test Passed: Your model contains the correct weights\")\n",
        "    else:\n",
        "      print(\"Test Failed: Your model contains incorrect weights. Please check your implementation\")\n",
        "\n",
        "if NOTEBOOK == 1:\n",
        "  test_logreg_2() ### Comment out this line when submitting ###\n"
      ],
      "execution_count": null,
      "outputs": []
    }
  ]
}