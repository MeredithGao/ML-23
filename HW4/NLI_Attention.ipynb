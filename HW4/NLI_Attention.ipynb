{
  "nbformat": 4,
  "nbformat_minor": 0,
  "metadata": {
    "colab": {
      "provenance": [],
      "collapsed_sections": [],
      "include_colab_link": true
    },
    "kernelspec": {
      "name": "python3",
      "display_name": "Python 3"
    },
    "language_info": {
      "name": "python"
    },
    "accelerator": "GPU",
    "gpuClass": "standard"
  },
  "cells": [
    {
      "cell_type": "markdown",
      "metadata": {
        "id": "view-in-github",
        "colab_type": "text"
      },
      "source": [
        "<a href=\"https://colab.research.google.com/github/MeredithGao/ML-23/blob/main/HW4/NLI_Attention.ipynb\" target=\"_parent\"><img src=\"https://colab.research.google.com/assets/colab-badge.svg\" alt=\"Open In Colab\"/></a>"
      ]
    },
    {
      "cell_type": "markdown",
      "source": [
        "# Homework 4: Lab (20 points)\n",
        "\n",
        "## Name: Student 1 (JHED), Student 2 (JHED)"
      ],
      "metadata": {
        "id": "pdlkWv7Ikx16"
      }
    },
    {
      "cell_type": "markdown",
      "source": [
        "Please refer to the PDF description for homework 4 for a detailed description of this notebook and the goals of this assignment.\n",
        "\n",
        "You will hand in a PDF of this notebook. Please be sure to clearly answer each question listed in the homework PDF."
      ],
      "metadata": {
        "id": "wxunYldilYpZ"
      }
    },
    {
      "cell_type": "markdown",
      "source": [
        "## Setup the code."
      ],
      "metadata": {
        "id": "b7Dz8TkwlzTF"
      }
    },
    {
      "cell_type": "code",
      "execution_count": 186,
      "metadata": {
        "colab": {
          "base_uri": "https://localhost:8080/"
        },
        "id": "vNW1JzOv68Ar",
        "outputId": "089a3a02-d333-470f-cb78-7354467c1f48"
      },
      "outputs": [
        {
          "output_type": "stream",
          "name": "stdout",
          "text": [
            "Looking in indexes: https://pypi.org/simple, https://us-python.pkg.dev/colab-wheels/public/simple/\n",
            "Requirement already satisfied: torch==1.10.0 in /usr/local/lib/python3.7/dist-packages (1.10.0)\n",
            "Requirement already satisfied: typing-extensions in /usr/local/lib/python3.7/dist-packages (from torch==1.10.0) (4.1.1)\n",
            "Looking in indexes: https://pypi.org/simple, https://us-python.pkg.dev/colab-wheels/public/simple/\n",
            "Requirement already satisfied: torchtext==0.6.0 in /usr/local/lib/python3.7/dist-packages (0.6.0)\n",
            "Requirement already satisfied: sentencepiece in /usr/local/lib/python3.7/dist-packages (from torchtext==0.6.0) (0.1.97)\n",
            "Requirement already satisfied: six in /usr/local/lib/python3.7/dist-packages (from torchtext==0.6.0) (1.15.0)\n",
            "Requirement already satisfied: numpy in /usr/local/lib/python3.7/dist-packages (from torchtext==0.6.0) (1.21.6)\n",
            "Requirement already satisfied: torch in /usr/local/lib/python3.7/dist-packages (from torchtext==0.6.0) (1.10.0)\n",
            "Requirement already satisfied: requests in /usr/local/lib/python3.7/dist-packages (from torchtext==0.6.0) (2.23.0)\n",
            "Requirement already satisfied: tqdm in /usr/local/lib/python3.7/dist-packages (from torchtext==0.6.0) (4.64.1)\n",
            "Requirement already satisfied: idna<3,>=2.5 in /usr/local/lib/python3.7/dist-packages (from requests->torchtext==0.6.0) (2.10)\n",
            "Requirement already satisfied: certifi>=2017.4.17 in /usr/local/lib/python3.7/dist-packages (from requests->torchtext==0.6.0) (2022.9.24)\n",
            "Requirement already satisfied: urllib3!=1.25.0,!=1.25.1,<1.26,>=1.21.1 in /usr/local/lib/python3.7/dist-packages (from requests->torchtext==0.6.0) (1.24.3)\n",
            "Requirement already satisfied: chardet<4,>=3.0.2 in /usr/local/lib/python3.7/dist-packages (from requests->torchtext==0.6.0) (3.0.4)\n",
            "Requirement already satisfied: typing-extensions in /usr/local/lib/python3.7/dist-packages (from torch->torchtext==0.6.0) (4.1.1)\n"
          ]
        }
      ],
      "source": [
        "# Turn on GPU backend for this Colab by clicking `Runtime > Change Runtime Type` above.\n",
        "\n",
        "!pip install torch==1.10.0\n",
        "!pip install torchtext==0.6.0\n",
        "\n",
        "import torch\n",
        "import torchtext\n",
        "import torchtext.data as data\n",
        "from torchtext.vocab import Vectors, GloVe\n",
        "import random"
      ]
    },
    {
      "cell_type": "markdown",
      "source": [
        "## Define the Neural Network "
      ],
      "metadata": {
        "id": "MgZ80RJjmL41"
      }
    },
    {
      "cell_type": "code",
      "source": [
        "class MLP(torch.nn.Module):\n",
        "    def __init__(self, input_dim, output_dim, dropout):\n",
        "        super(MLP, self).__init__()\n",
        "        self.l1 = torch.nn.Linear(input_dim, output_dim) \n",
        "        self.l2 = torch.nn.Linear(output_dim, output_dim) \n",
        "        self.dropout = torch.nn.Dropout(dropout)\n",
        "\n",
        "    def forward(self, x):\n",
        "        x = self.l1(x).relu()\n",
        "        x = self.dropout(x)\n",
        "        x = self.l2(x).relu()\n",
        "        x = self.dropout(x)\n",
        "        return x\n",
        "\n",
        "class AttentionModel(torch.nn.Module):\n",
        "    def __init__(self,\n",
        "                 TEXT, LABEL,\n",
        "                 hidden_attn, hidden_aligned, hidden_final,\n",
        "                 dropout = 0.2, device = 'cpu', freeze_emb = True):\n",
        "        super().__init__()\n",
        "        # record parameters\n",
        "        self.device = device\n",
        "        self.dropout = dropout\n",
        "\n",
        "        # initialize embedding\n",
        "        self.pretrained_emb = TEXT.vocab.vectors.to(device)\n",
        "        self.embedding = (\n",
        "            torch.nn.Embedding.from_pretrained(self.pretrained_emb, freeze=freeze_emb)       \n",
        "                ) # seqlen x embedding\n",
        "        self.embedding.weight[1] = torch.zeros(300)\n",
        "        self.embedding_projection = torch.nn.Linear(self.pretrained_emb.shape[1], 200) # embedding x embedding\n",
        "        emb_dim = 200\n",
        "\n",
        "        # initialize feedforward modules\n",
        "        self.feedforward_attn = MLP(emb_dim, hidden_attn, self.dropout) # 'embedding', 'hidden',\n",
        "        self.feedforward_aligned = MLP(2*emb_dim, hidden_aligned, self.dropout)\n",
        "        self.feedforward_agg = MLP(2*hidden_aligned, hidden_final, self.dropout)\n",
        "        self.final_linear = torch.nn.Linear(hidden_final, len(LABEL.vocab))\n",
        "        self.to(device)\n",
        "\n",
        "    def forward(self, premise, hypothesis):\n",
        "        premise = self.embedding(premise)\n",
        "        premise = self.embedding_projection(premise) #.rename('seqlen', 'seqlenPremise')\n",
        "        hypothesis = self.embedding(hypothesis)\n",
        "        hypothesis = self.embedding_projection(hypothesis) #.rename('seqlen', 'seqlenHypo')\n",
        "\n",
        "        premise_mask = (premise != 0).float()\n",
        "        hypothesis_mask = (hypothesis != 0).float()\n",
        "\n",
        "        #attend\n",
        "        premise_hidden = self.feedforward_attn(premise)\n",
        "        hypothesis_hidden = self.feedforward_attn(hypothesis)\n",
        "        \n",
        "        # matmul: [B, L1, D] * [B, D, L2] -> [B, L1, L2]\n",
        "        # hypothesis_hidden: L1, B, D\n",
        "        # premise_hidden: L2, B, D\n",
        "        hypothesis_hidden = hypothesis_hidden.permute((1,0,2))\n",
        "        premise_hidden = premise_hidden.permute((1,2,0))\n",
        "        self.attn = torch.matmul(hypothesis_hidden, premise_hidden)\n",
        "        #self.attn = premise_hidden.dot(hypothesis_hidden)\n",
        "        # attn.shape: B, L1, L2\n",
        "        self.attn_beta = self.attn.softmax(2)\n",
        "        # premise: L2, B, D -> B, L2, D\n",
        "        # beta: B, L1, D\n",
        "        beta = torch.matmul(self.attn_beta, premise.permute((1,0,2)))\n",
        "        \n",
        "        # hypothesis: L1, B, D -> B, L1, D\n",
        "        # attn: B, L1, L2 -> B, L2, L1\n",
        "        # alpha: B, L2, D\n",
        "        self.attn_alpha = self.attn.softmax(1).permute((0,2,1))\n",
        "        alpha = torch.matmul(self.attn_alpha, hypothesis.permute((1, 0, 2)))\n",
        "\n",
        "        #hypothesis_mask: L1, B, D\n",
        "        # premise_mask: L2, B, D\n",
        "        beta = beta.permute((1, 0, 2)) * hypothesis_mask \n",
        "        alpha = alpha.permute((1, 0, 2)) * premise_mask \n",
        "\n",
        "        #compare\n",
        "        hypothesis_comparison = self.feedforward_aligned(torch.cat([beta, hypothesis], dim=2)).sum(dim=0) # sum along L1\n",
        "        premise_comparison = self.feedforward_aligned(torch.cat([alpha, premise], dim=2)).sum(dim=0) # sum along L2\n",
        "        # B, D\n",
        "\n",
        "        #aggregate\n",
        "        agg = torch.cat([premise_comparison, hypothesis_comparison], dim=1) # cat along , 'hidden'\n",
        "        agg = self.feedforward_agg(agg)\n",
        "        agg = self.final_linear(agg)\n",
        "        return agg, self.attn\n",
        "\n",
        "    def fit(self, train_iter, val_iter=[], lr=0.0001, verbose=True,\n",
        "            batch_size=128, epochs=100, interval=500):\n",
        "        self.to(self.device)\n",
        "        lr = torch.tensor(lr)\n",
        "        criterion = torch.nn.CrossEntropyLoss()\n",
        "        optimizer = torch.optim.Adam(self.parameters(), lr=lr)\n",
        "        train_iter.batch_size = batch_size\n",
        "        pre = []\n",
        "        hypo = []\n",
        "        labs = []\n",
        "        true_labels = []\n",
        "\n",
        "\n",
        "        for epoch in range(epochs):  # loop over the dataset multiple times\n",
        "            running_loss = 0.0\n",
        "            self.train()\n",
        "            \n",
        "            for i, data in enumerate(train_iter, 0):\n",
        "                premise, hypothesis, labels = (\n",
        "                    data.premise,\n",
        "                    data.hypothesis,\n",
        "                    data.label\n",
        "                )\n",
        "                if epoch == 0 and i==500:\n",
        "                  for premise_ids in premise.permute((1,0)):\n",
        "                    pre.append(vocab_id_to_string(premise_ids.tolist(), TEXT))\n",
        "                  for hypothesis_ids in hypothesis.permute((1,0)):\n",
        "                    hypo.append(vocab_id_to_string(hypothesis_ids.tolist(), TEXT))\n",
        "                  labs += labels.tolist()\n",
        "                  true_labels = [vocab_id_to_string(l, LABEL) for l in labs]\n",
        "            \n",
        "\n",
        "                # forward + backward + optimize\n",
        "                outputs, _ = self(premise, hypothesis)\n",
        "                loss = criterion(\n",
        "                    outputs,\n",
        "                    labels,\n",
        "                )\n",
        "                # zero the parameter gradients\n",
        "                optimizer.zero_grad()\n",
        "                loss.backward()\n",
        "                optimizer.step()\n",
        "\n",
        "                running_loss += loss.item()\n",
        "                if i % interval == 0 and i > 0 and verbose:\n",
        "                    print(f\"batch: {i}, loss: {running_loss/interval}\")\n",
        "                    running_loss = 0\n",
        "            if verbose and val_iter is not None:\n",
        "                val_loss = self.validate(val_iter)\n",
        "                print(f\"epoch: {epoch}, val loss: {val_loss}\")\n",
        "        return pre, hypo, true_labels\n",
        "        \n",
        "    def validate(self, val_iter):\n",
        "        running_loss = 0\n",
        "        val_count = 0\n",
        "        self.eval()\n",
        "        criterion = torch.nn.CrossEntropyLoss()\n",
        "\n",
        "        for i, data in enumerate(val_iter):\n",
        "            premise, hypothesis, labels = (\n",
        "                data.premise,\n",
        "                data.hypothesis,\n",
        "                data.label\n",
        "            )\n",
        "\n",
        "            outputs, _ = self(premise, hypothesis)\n",
        "            loss = criterion(\n",
        "                outputs,\n",
        "                labels\n",
        "            )\n",
        "            running_loss += loss.item()\n",
        "            val_count += 1\n",
        "        avg_loss = running_loss / val_count\n",
        "        return avg_loss"
      ],
      "metadata": {
        "id": "Nc6_xcDPMXM_"
      },
      "execution_count": 258,
      "outputs": []
    },
    {
      "cell_type": "markdown",
      "source": [
        "## Load the data"
      ],
      "metadata": {
        "id": "ECMg1hAjmRLr"
      }
    },
    {
      "cell_type": "code",
      "source": [
        "# The data\n",
        "# Our input x\n",
        "TEXT = data.Field()\n",
        "\n",
        "# Our labels y\n",
        "LABEL = data.Field(sequential=False,)\n",
        "\n",
        "train, val, test = torchtext.datasets.SNLI.splits(\n",
        "    TEXT, LABEL)\n",
        "\n",
        "pretrained_embedding = 'glove.6B.300d'\n",
        "embedding_dim = 300\n",
        "embedding_num = 100\n",
        "\n",
        "\n",
        "TEXT.build_vocab(train)\n",
        "LABEL.build_vocab(train)\n",
        "\n",
        "train_iter, val_iter, test_iter = torchtext.data.BucketIterator.splits(\n",
        "    (train, val, test), batch_size=128, device=torch.device(\"cuda\"), repeat=False, shuffle=False) # cpu\n",
        "\n",
        "# Assign word embeddings.\n",
        "# Out-of-vocabulary (OOV) words are hashed to one of 100 random embeddings. \n",
        "# Initialized to mean 0 and standarad deviation 1.  \n",
        "\n",
        "unk_vectors = [torch.randn(embedding_dim) for _ in range(embedding_num)]\n",
        "TEXT.vocab.load_vectors(vectors=pretrained_embedding, unk_init=lambda x:random.choice(unk_vectors))\n",
        "\n",
        "# Normalize s.t. l_2 norm = 1. \n",
        "\n",
        "vectors = TEXT.vocab.vectors\n",
        "vectors = vectors / vectors.norm(dim=1,keepdim=True)\n",
        "vectors = torch.tensor(vectors) # dims: word, embedding \n",
        "TEXT.vocab.vectors = vectors\n",
        "\n",
        "# Helper function that converts vocabulary ids to string\n",
        "def vocab_id_to_string(ids, FIELD):\n",
        "    string = \"\"\n",
        "    if type(ids) == list:\n",
        "        for id in ids:\n",
        "            if id != 1: # remove <pad>\n",
        "                string += \" \" + FIELD.vocab.itos[id]\n",
        "    elif type(ids) == int:\n",
        "        string = FIELD.vocab.itos[ids]\n",
        "    return string\n",
        "\n",
        "# Helper function that converts string to vocabulary ids\n",
        "def string_to_vocab_ids(string):\n",
        "    vocab_ids = []\n",
        "    for w in string.strip().split():\n",
        "        vocab_ids.append(TEXT.vocab.stoi[w])\n",
        "    return vocab_ids"
      ],
      "metadata": {
        "colab": {
          "base_uri": "https://localhost:8080/"
        },
        "id": "HH0Qg8dt8IR0",
        "outputId": "db6a0816-5d69-4d30-a4ad-83e4325ac7da"
      },
      "execution_count": 188,
      "outputs": [
        {
          "output_type": "stream",
          "name": "stderr",
          "text": [
            "/usr/local/lib/python3.7/dist-packages/ipykernel_launcher.py:33: UserWarning: To copy construct from a tensor, it is recommended to use sourceTensor.clone().detach() or sourceTensor.clone().detach().requires_grad_(True), rather than torch.tensor(sourceTensor).\n"
          ]
        }
      ]
    },
    {
      "cell_type": "markdown",
      "source": [
        "# Train the Model\n",
        "\n",
        "Train the model on the training set and save the checkpoint."
      ],
      "metadata": {
        "id": "3R3_9xDlsM72"
      }
    },
    {
      "cell_type": "code",
      "source": [
        "def train(model_ckpt, epoch=1):\n",
        "    model = AttentionModel(TEXT=TEXT, LABEL=LABEL, hidden_attn=200, hidden_aligned=200, hidden_final=200, device=torch.device(\"cuda\"))\n",
        "    pre, hypo, true_labels = model.fit(train_iter, val_iter, epochs=epoch)\n",
        "    torch.save(model.state_dict(), model_ckpt)\n",
        "    return pre, hypo, true_labels"
      ],
      "metadata": {
        "id": "H1cUFyPGsP-2"
      },
      "execution_count": 259,
      "outputs": []
    },
    {
      "cell_type": "markdown",
      "source": [
        "#Evaluate on Test Set\n",
        "\n",
        "Given a checkpoint, this function would report the accuracy on test set and generate an output file **predictions.txt** which contains information including *sample id*, *premise*, *hypothesis*, *predicted label*, *true label*."
      ],
      "metadata": {
        "id": "hCSgCcfXq8GO"
      }
    },
    {
      "cell_type": "code",
      "source": [
        "def test_model(model_ckpt):\n",
        "    with torch.no_grad():\n",
        "        model = AttentionModel(TEXT=TEXT, LABEL=LABEL, hidden_attn=200, hidden_aligned=200, hidden_final=200, device=torch.device(\"cuda\"))\n",
        "        model.load_state_dict(torch.load(model_ckpt))\n",
        "        result = []\n",
        "        labels = []\n",
        "\n",
        "        predictions = []\n",
        "        true_labels = []\n",
        "        premises = []\n",
        "        hypothesis = []\n",
        "        \n",
        "        test_iter = torchtext.data.BucketIterator(test, train=False, batch_size=10, device=torch.device(\"cuda\"))\n",
        "        for batch in test_iter:\n",
        "            # batch.premise: L2, B\n",
        "            for premise_ids in batch.premise.permute((1,0)):\n",
        "                premises.append(vocab_id_to_string(premise_ids.tolist(), TEXT))\n",
        "            for hypothesis_ids in batch.hypothesis.permute((1,0)):\n",
        "                hypothesis.append(vocab_id_to_string(hypothesis_ids.tolist(), TEXT))\n",
        "                \n",
        "            probs, _ = model(batch.premise, batch.hypothesis)\n",
        "            _, amax = probs.max(dim=1)\n",
        "            result += amax.tolist()\n",
        "            labels += batch.label.tolist()\n",
        "\n",
        "            predictions = [vocab_id_to_string(r, LABEL) for r in result]\n",
        "            true_labels = [vocab_id_to_string(l, LABEL) for l in labels]\n",
        "            \n",
        "        with open(\"predictions.txt\", \"w\") as f:\n",
        "           f.write(\"Id,Premise,Hypothesis,Prediction,True Label\\n\")\n",
        "           for i in range(len(result)):\n",
        "               f.write(str(i) + \",\" + premises[i] + \",\" + hypothesis[i] + \",\" + predictions[i] + \",\" + true_labels[i] + \"\\n\")\n",
        "        \n",
        "        acc = sum(result[i] == labels[i] for i in range(len(result)))\n",
        "        print(\"Accuracy on test set: %.2f\" % ((acc / len(result))*100) + \"%.\")"
      ],
      "metadata": {
        "id": "FCuUOKdA8Ric"
      },
      "execution_count": 190,
      "outputs": []
    },
    {
      "cell_type": "markdown",
      "source": [
        "# Get Attention Weights\n",
        "\n",
        "Load a checkpoint, evaluate on a sample and get the attention weights."
      ],
      "metadata": {
        "id": "3K1ddAKLsu63"
      }
    },
    {
      "cell_type": "code",
      "source": [
        "#We add a get_prediction to get the predicted label for our examples\n",
        "\n",
        "def get_prediction(model_ckpt, premise, hypothesis):\n",
        "    # Arguments:\n",
        "    #   model_ckpt: the model checkpoint *.pt file\n",
        "    #   premise: a Python string\n",
        "    #   hypothesis: a Python string\n",
        "    # Output:\n",
        "    #   prediction\n",
        "    with torch.no_grad():\n",
        "        result = []\n",
        "        predictions = []\n",
        "        model = AttentionModel(TEXT=TEXT, LABEL=LABEL, hidden_attn=200, hidden_aligned=200, hidden_final=200, device=torch.device(\"cuda\"))\n",
        "        model.load_state_dict(torch.load(model_ckpt))\n",
        "        premise = string_to_vocab_ids(premise)\n",
        "        hypothesis = string_to_vocab_ids(hypothesis)\n",
        "        premise = torch.tensor(premise).reshape((-1,1)).to(\"cuda\")\n",
        "        hypothesis = torch.tensor(hypothesis).reshape((-1,1)).to(\"cuda\")\n",
        "        probs, _ = model(premise, hypothesis)\n",
        "        _, amax = probs.max(dim=1)\n",
        "        result += amax.tolist()\n",
        "        prediction = [vocab_id_to_string(r, LABEL) for r in result]\n",
        "            \n",
        "    return prediction"
      ],
      "metadata": {
        "id": "y9ewQzFvw7kf"
      },
      "execution_count": 191,
      "outputs": []
    },
    {
      "cell_type": "code",
      "source": [
        "def get_attentions(model_ckpt, premise, hypothesis):\n",
        "    # Arguments:\n",
        "    #   model_ckpt: the model checkpoint *.pt file\n",
        "    #   premise: a Python string\n",
        "    #   hypothesis: a Python string\n",
        "    # Output:\n",
        "    #   Tensor in the shape of (length_hypothesis, length_premise)\n",
        "    with torch.no_grad():\n",
        "        result = []\n",
        "        prediction = []\n",
        "        model = AttentionModel(TEXT=TEXT, LABEL=LABEL, hidden_attn=200, hidden_aligned=200, hidden_final=200, device=torch.device(\"cuda\"))\n",
        "        model.load_state_dict(torch.load(model_ckpt))\n",
        "        premise = string_to_vocab_ids(premise)\n",
        "        hypothesis = string_to_vocab_ids(hypothesis)\n",
        "        premise = torch.tensor(premise).reshape((-1,1)).to(\"cuda\")\n",
        "        hypothesis = torch.tensor(hypothesis).reshape((-1,1)).to(\"cuda\")\n",
        "        probs, attn = model(premise, hypothesis)\n",
        "        _, amax = probs.max(dim=1)\n",
        "        result += amax.tolist()\n",
        "        prediction = [vocab_id_to_string(r, LABEL) for r in result]\n",
        "        #print(prediction[0])\n",
        "    return attn.squeeze(0).to('cpu') "
      ],
      "metadata": {
        "id": "VMuxaitRr_ns"
      },
      "execution_count": 224,
      "outputs": []
    },
    {
      "cell_type": "markdown",
      "source": [
        "# Visualize the Attention Weights"
      ],
      "metadata": {
        "id": "XkK40ejDvoFU"
      }
    },
    {
      "cell_type": "code",
      "source": [
        "import numpy as np\n",
        "import matplotlib.pyplot as plt\n",
        "\n",
        "def visualize_token2head_scores(scores, premise, hypothesis):\n",
        "    premise = premise.split()\n",
        "    hypothesis = hypothesis.split()\n",
        "    fig = plt.figure(figsize=(30, 50))\n",
        "\n",
        "    scores_np = np.array(scores)\n",
        "    ax = fig.add_subplot(6, 2, 1)\n",
        "    # append the attention weights\n",
        "    im = ax.matshow(scores_np, cmap='viridis')\n",
        "\n",
        "    fontdict = {'fontsize': 20}\n",
        "\n",
        "    ax.set_xticks(range(len(premise)))\n",
        "    ax.set_yticks(range(len(hypothesis)))\n",
        "\n",
        "    ax.set_xticklabels(premise, fontdict=fontdict, rotation=90)\n",
        "    ax.set_yticklabels(hypothesis, fontdict=fontdict)\n",
        "\n",
        "    fig.colorbar(im, fraction=0.046, pad=0.04)\n",
        "    plt.tight_layout()\n",
        "    plt.show()"
      ],
      "metadata": {
        "id": "9DejHEUAhtCT"
      },
      "execution_count": 225,
      "outputs": []
    },
    {
      "cell_type": "markdown",
      "source": [
        "# Example\n",
        "\n",
        "1. Load a pretrained checkpoint and report the accuracy."
      ],
      "metadata": {
        "id": "AiVvZZ_lv2FQ"
      }
    },
    {
      "cell_type": "code",
      "source": [
        "from google.colab import drive\n",
        "drive.mount('/content/gdrive')"
      ],
      "metadata": {
        "colab": {
          "base_uri": "https://localhost:8080/"
        },
        "id": "SYtMdb0zgEgz",
        "outputId": "20c18cba-258e-40b3-bd4d-4f0e8e9fe5b3"
      },
      "execution_count": 194,
      "outputs": [
        {
          "output_type": "stream",
          "name": "stdout",
          "text": [
            "Drive already mounted at /content/gdrive; to attempt to forcibly remount, call drive.mount(\"/content/gdrive\", force_remount=True).\n"
          ]
        }
      ]
    },
    {
      "cell_type": "code",
      "source": [
        "# train(\"ckpt3.pt\", epoch=3) You can train your own model using this line of code.\n",
        "test_model(\"/content/gdrive/MyDrive/ckpt20.pt\") # We have provided you with this checkpoint. You can upload it to the \"content\" directory.\n",
        "# We trained the model for 20 epochs with the given hyperparameters to get this checkpoint."
      ],
      "metadata": {
        "id": "tY42g7el1amx",
        "colab": {
          "base_uri": "https://localhost:8080/"
        },
        "outputId": "fe11cc82-7212-4155-fcc1-268686d73f28"
      },
      "execution_count": 208,
      "outputs": [
        {
          "output_type": "stream",
          "name": "stdout",
          "text": [
            "Accuracy on test set: 72.53%.\n"
          ]
        }
      ]
    },
    {
      "cell_type": "markdown",
      "source": [
        "Assuming everything went well, you should have an accuray on the test set of around 72.78%. The splits might vary on differnt machines thus the accuracy on test set might also vary."
      ],
      "metadata": {
        "id": "4dGqlTHCn8Zp"
      }
    },
    {
      "cell_type": "markdown",
      "source": [
        "2. The first step generated a file \"predictions.txt\". We can pick a sample from the file for further analysis. Here, we decided to pick the following sample:\n",
        "\n",
        "```\n",
        "Id, Premise,        Hypothesis,                Prediction,    True Label\n",
        "0,  A biker races., The biker loses the race,  contradiction, neutral\n",
        "```"
      ],
      "metadata": {
        "id": "5HRkHfRpynnv"
      }
    },
    {
      "cell_type": "markdown",
      "source": [
        "3. Extract the attention weights."
      ],
      "metadata": {
        "id": "N8QkrZLJ1nPO"
      }
    },
    {
      "cell_type": "code",
      "source": [
        "premise = \"A biker races.\"\n",
        "hypothesis = \"The biker loses the race\"\n",
        "scores = get_attentions(\"/content/gdrive/MyDrive/ckpt20.pt\", premise, hypothesis)"
      ],
      "metadata": {
        "id": "EetS_OdM1uOm"
      },
      "execution_count": 196,
      "outputs": []
    },
    {
      "cell_type": "markdown",
      "source": [
        "4. Visualize the attention weights."
      ],
      "metadata": {
        "id": "yLYuV-RA1_QI"
      }
    },
    {
      "cell_type": "code",
      "source": [
        "visualize_token2head_scores(scores, premise, hypothesis)"
      ],
      "metadata": {
        "id": "713b6NiJ2GUK",
        "colab": {
          "base_uri": "https://localhost:8080/",
          "height": 737
        },
        "outputId": "26e05e85-5b96-4c62-e705-d3dc47a984a4"
      },
      "execution_count": 226,
      "outputs": [
        {
          "output_type": "display_data",
          "data": {
            "text/plain": [
              "<Figure size 2160x3600 with 2 Axes>"
            ],
            "image/png": "[encoded data removed]"
          },
          "metadata": {
            "needs_background": "light"
          }
        }
      ]
    },
    {
      "cell_type": "markdown",
      "source": [
        "## Answers\n",
        "In the following section, you will answer questions about the trained model on the learned attention weights.\n",
        "\n",
        "You will answer each of the following questions in the notebook. In each question, you will draw a figure that shows the attention weights $e_{ij}$.\n",
        "\n",
        "In each questions, your figure will be a matrix, where an entry for the $i$th row and $j$th column will visualize the weight $e_{ij}$. Darker values mean larger numbers."
      ],
      "metadata": {
        "id": "OQ4w-TrCoKag"
      }
    },
    {
      "cell_type": "markdown",
      "source": [
        "Q1.1 (4 points): Draw a figure that shows the attention weights for a correctly classified example from test set for the entailment, contradiction and the neutral classes, respectively. Explain how the learned attention weights contribute to the correct predictions."
      ],
      "metadata": {
        "id": "GNmgyisQfF_8"
      }
    },
    {
      "cell_type": "markdown",
      "source": [
        "\n",
        "**entailment**\n",
        "```\n",
        "Id, Premise,        Hypothesis,                Prediction,    True Label\n",
        "3, A wakeboarder., A person with a wakeboard.,entailment,entailment\n",
        "```"
      ],
      "metadata": {
        "id": "3Im6iaZKo9T_"
      }
    },
    {
      "cell_type": "code",
      "source": [
        "premise = \"A wakeboarder.\"\n",
        "hypothesis = \"A person with a wakeboard.\"\n",
        "scores = get_attentions(\"/content/gdrive/MyDrive/ckpt20.pt\", premise, hypothesis)\n",
        "visualize_token2head_scores(scores, premise, hypothesis)"
      ],
      "metadata": {
        "colab": {
          "base_uri": "https://localhost:8080/",
          "height": 737
        },
        "id": "blEN9dDQoXoR",
        "outputId": "64d79309-23e6-4ff5-8382-923487f7023f"
      },
      "execution_count": 227,
      "outputs": [
        {
          "output_type": "display_data",
          "data": {
            "text/plain": [
              "<Figure size 2160x3600 with 2 Axes>"
            ],
            "image/png": "[encoded data removed]"
          },
          "metadata": {
            "needs_background": "light"
          }
        }
      ]
    },
    {
      "cell_type": "markdown",
      "source": [
        "\n",
        "**contradiction**\n",
        "```\n",
        "Id, Premise,        Hypothesis,                Prediction,    True Label\n",
        "1, A dog runs., The dog is walking,contradiction,contradiction\n",
        "```"
      ],
      "metadata": {
        "id": "-duRWtmkpTRK"
      }
    },
    {
      "cell_type": "code",
      "source": [
        "premise = \"A dog runs.\"\n",
        "hypothesis = \"The dog is walking\"\n",
        "print(\"prediction:\", get_prediction(\"/content/gdrive/MyDrive/ckpt20.pt\", premise, hypothesis)[0])\n",
        "scores = get_attentions(\"/content/gdrive/MyDrive/ckpt20.pt\", premise, hypothesis)\n",
        "visualize_token2head_scores(scores, premise, hypothesis)\n"
      ],
      "metadata": {
        "colab": {
          "base_uri": "https://localhost:8080/",
          "height": 685
        },
        "id": "Zqo4tcsopTiB",
        "outputId": "cf63b571-65d1-4e33-c94d-4fdf889f2d4d"
      },
      "execution_count": 228,
      "outputs": [
        {
          "output_type": "stream",
          "name": "stdout",
          "text": [
            "prediction: contradiction\n"
          ]
        },
        {
          "output_type": "display_data",
          "data": {
            "text/plain": [
              "<Figure size 2160x3600 with 2 Axes>"
            ],
            "image/png": "[encoded data removed]"
          },
          "metadata": {
            "needs_background": "light"
          }
        }
      ]
    },
    {
      "cell_type": "markdown",
      "source": [
        "\n",
        "**neutral**\n",
        "```\n",
        "136, Man walking a small pug., The man is a mailman.,neutral,neutral\n",
        "```"
      ],
      "metadata": {
        "id": "ih314qmVpl2r"
      }
    },
    {
      "cell_type": "code",
      "source": [
        "premise = \"Man walking a small pug.\" \n",
        "hypothesis = \"The man is a mailman.\"\n",
        "scores = get_attentions(\"/content/gdrive/MyDrive/ckpt20.pt\", premise, hypothesis)\n",
        "visualize_token2head_scores(scores, premise, hypothesis)"
      ],
      "metadata": {
        "colab": {
          "base_uri": "https://localhost:8080/",
          "height": 689
        },
        "id": "SBSMdwlQpl-o",
        "outputId": "1bdcf9f4-b2b7-46b9-b490-48c803ec774f"
      },
      "execution_count": 229,
      "outputs": [
        {
          "output_type": "display_data",
          "data": {
            "text/plain": [
              "<Figure size 2160x3600 with 2 Axes>"
            ],
            "image/png": "[encoded data removed]"
          },
          "metadata": {
            "needs_background": "light"
          }
        }
      ]
    },
    {
      "cell_type": "markdown",
      "source": [
        "TODO:\n",
        "\n",
        "*   For correctly labeled entailment example, the \n",
        "biggest weight is at \"wakeboarder\" and \"person\", indicating that this combination contributes the most to the correst prediction, which is plausible because the significant point in this prediction is that wakeboarder means a person with a wakeboard.\n",
        "*   For contradiction, \"dog\" and \"dog\", \"runs\" and \"walking\" have the biggest weights. These are the significant points for this example to have a correct prediction because the same subject cannot be followed by two different verbs.\n",
        "\n",
        "*   For neutral example, \"Man\" and \"man\", \"The\" and \"man\", \"walking\" and \"mailman\" have the biggest weights. For the same subject, \"walking\" and \"mailman\" have no contradictive or entailed relation, thus the neutral prediction is correct.\n",
        "\n",
        "\n",
        "We can see that for correctly predicted examples, models can precisely find the subjects, verbs, or adjectives that are significant for determining which relation premise and hypothesis have."
      ],
      "metadata": {
        "id": "-AsUH_A9faA-"
      }
    },
    {
      "cell_type": "markdown",
      "source": [
        "Q1.2 (4 points): Draw a figure that shows the attention weights for an incorrectly classified example from test set for the entailment, contradiction and the neutral classes, respectively.\n",
        "\n",
        "Describe the difference between the pattern in these attention weights with those of the correctly predicted examples above."
      ],
      "metadata": {
        "id": "0VtmJpfAfcvw"
      }
    },
    {
      "cell_type": "markdown",
      "source": [
        "\n",
        "**entailment**\n",
        "```\n",
        "Id, Premise,        Hypothesis,                Prediction,    True Label\n",
        "13, A biker races., A person is riding a bike,contradiction,entailment\n",
        "```"
      ],
      "metadata": {
        "id": "dLRUyeJSxlq8"
      }
    },
    {
      "cell_type": "code",
      "source": [
        "premise = \"A biker races.\" \n",
        "hypothesis = \"A person is riding a bike\"\n",
        "scores = get_attentions(\"/content/gdrive/MyDrive/ckpt20.pt\", premise, hypothesis)\n",
        "visualize_token2head_scores(scores, premise, hypothesis)"
      ],
      "metadata": {
        "colab": {
          "base_uri": "https://localhost:8080/",
          "height": 675
        },
        "id": "2RpWzQROxlzZ",
        "outputId": "d7c0f4b4-b3c7-44ff-f17a-dc582e37012f"
      },
      "execution_count": 231,
      "outputs": [
        {
          "output_type": "display_data",
          "data": {
            "text/plain": [
              "<Figure size 2160x3600 with 2 Axes>"
            ],
            "image/png": "[encoded data removed]"
          },
          "metadata": {
            "needs_background": "light"
          }
        }
      ]
    },
    {
      "cell_type": "markdown",
      "source": [
        "**contradiction**\n",
        "```\n",
        "Id, Premise,        Hypothesis,                Prediction,    True Label\n",
        "9, Men play hockey., Aliens play,neutral,contradiction\n",
        "```"
      ],
      "metadata": {
        "id": "u3KM-xX_xl7U"
      }
    },
    {
      "cell_type": "code",
      "source": [
        "premise = \"Men play hockey.\" \n",
        "hypothesis = \"Aliens play\"\n",
        "scores = get_attentions(\"/content/gdrive/MyDrive/ckpt20.pt\", premise, hypothesis)\n",
        "visualize_token2head_scores(scores, premise, hypothesis)"
      ],
      "metadata": {
        "colab": {
          "base_uri": "https://localhost:8080/",
          "height": 687
        },
        "id": "M5nwNxbexmDK",
        "outputId": "91447f7b-003b-40ae-a2c5-7a84bafeea11"
      },
      "execution_count": 233,
      "outputs": [
        {
          "output_type": "display_data",
          "data": {
            "text/plain": [
              "<Figure size 2160x3600 with 2 Axes>"
            ],
            "image/png": "[encoded data removed]"
          },
          "metadata": {
            "needs_background": "light"
          }
        }
      ]
    },
    {
      "cell_type": "markdown",
      "source": [
        "**neutral**\n",
        "```\n",
        "Id, Premise,        Hypothesis,                Prediction,    True Label\n",
        "107, Times Square in New York., Times Square is packed.,entailment,neutral\n",
        "```"
      ],
      "metadata": {
        "id": "j7pPIOnhxmLc"
      }
    },
    {
      "cell_type": "code",
      "source": [
        "premise = \"Times Square in New York.\" \n",
        "hypothesis = \"Times Square is packed.\"\n",
        "scores = get_attentions(\"/content/gdrive/MyDrive/ckpt20.pt\", premise, hypothesis)\n",
        "visualize_token2head_scores(scores, premise, hypothesis)"
      ],
      "metadata": {
        "colab": {
          "base_uri": "https://localhost:8080/",
          "height": 684
        },
        "id": "3sfYsiHcxmS0",
        "outputId": "d61520bc-b58d-4678-f8dd-96746ae35052"
      },
      "execution_count": 239,
      "outputs": [
        {
          "output_type": "display_data",
          "data": {
            "text/plain": [
              "<Figure size 2160x3600 with 2 Axes>"
            ],
            "image/png": "[encoded data removed]"
          },
          "metadata": {
            "needs_background": "light"
          }
        }
      ]
    },
    {
      "cell_type": "markdown",
      "source": [
        "TODO:\n",
        "\n",
        "*  For entailment, the model puts more weights on \"A\" and \"riding\" and \"races\" and \"riding\" while it should focus more on \"biker\" and \"riding\" or \"biker\" and \"bike\".\n",
        "*   For contradiction, the model puts the most weight on \"play\" and \"play\", but it should focus more on \"Men\" and \"Aliens\".\n",
        "*   For neutral,  the model puts the most weight on \"Square\" and \"Square\", but it should focus more on \"packed\".\n",
        "\n",
        "\n",
        "For incorrectly predicted examples, the model fails to find the combination of words that is significant for prediction.\n",
        "\n",
        "\n",
        "\n",
        "\n",
        "\n"
      ],
      "metadata": {
        "id": "IgPF4YFkflu6"
      }
    },
    {
      "cell_type": "markdown",
      "source": [
        "Q2.1 (2 points): Write your own example of an NLI instance (hypothesis and premise)\n",
        "such that the label is ambiguous (i.e. write a confusing/hard example!). Draw a figure of\n",
        "the attention weights and explain how the model’s uncertainty is reflected in the weights."
      ],
      "metadata": {
        "id": "87iz-4QLfnWv"
      }
    },
    {
      "cell_type": "markdown",
      "source": [
        "```\n",
        "Premise,        Hypothesis,     True Label\n",
        "He always studied the book before., The man did previews., neutral\n",
        "```"
      ],
      "metadata": {
        "id": "Plhmo9fg4R3N"
      }
    },
    {
      "cell_type": "code",
      "source": [
        "premise = \"He always studied the book before.\" \n",
        "hypothesis = \"The man did previews.\"\n",
        "print(\"Prediction:\", get_prediction(\"/content/gdrive/MyDrive/ckpt20.pt\", premise, hypothesis)[0])\n",
        "scores = get_attentions(\"/content/gdrive/MyDrive/ckpt20.pt\", premise, hypothesis)\n",
        "visualize_token2head_scores(scores, premise, hypothesis)"
      ],
      "metadata": {
        "colab": {
          "base_uri": "https://localhost:8080/",
          "height": 705
        },
        "id": "7-4T6dcGdkSS",
        "outputId": "b0483fcd-8f79-4293-c7ba-13268d819930"
      },
      "execution_count": 240,
      "outputs": [
        {
          "output_type": "stream",
          "name": "stdout",
          "text": [
            "Prediction: contradiction\n"
          ]
        },
        {
          "output_type": "display_data",
          "data": {
            "text/plain": [
              "<Figure size 2160x3600 with 2 Axes>"
            ],
            "image/png": "[encoded data removed]"
          },
          "metadata": {
            "needs_background": "light"
          }
        }
      ]
    },
    {
      "cell_type": "markdown",
      "source": [
        "TODO:\n",
        "We can see that almost half of the word combinations has a weight higher than the average, indicating that for ambiguous example, more weights with high values are distributed than others, which is reasonable because uncertainty causes the machine to consider more combinations of words to be significant in deciding the relation between the premise and hypothesis."
      ],
      "metadata": {
        "id": "h_MswIPtft_L"
      }
    },
    {
      "cell_type": "markdown",
      "source": [
        "Q2.2 (3 points): Make up two examples yourself, such that the two examples have\n",
        "similar words (but need not be identical) but the word order makes a difference in the\n",
        "label. Show the attention weights for each case. Compare the weights in each case and\n",
        "explain how they contribute to the model predictions."
      ],
      "metadata": {
        "id": "oym6L7Edfu-b"
      }
    },
    {
      "cell_type": "markdown",
      "source": [
        "```\n",
        "Premise,        Hypothesis,     True Label\n",
        "He went to see., The man saw., entailment\n",
        "```"
      ],
      "metadata": {
        "id": "M4s4Mmbul6FU"
      }
    },
    {
      "cell_type": "code",
      "source": [
        "premise = \"He went to see.\" \n",
        "hypothesis = \"The man saw.\"\n",
        "print(\"Prediction:\", get_prediction(\"/content/gdrive/MyDrive/ckpt20.pt\", premise, hypothesis)[0])\n",
        "scores = get_attentions(\"/content/gdrive/MyDrive/ckpt20.pt\", premise, hypothesis)\n",
        "visualize_token2head_scores(scores, premise, hypothesis)"
      ],
      "metadata": {
        "colab": {
          "base_uri": "https://localhost:8080/",
          "height": 684
        },
        "id": "FOs_Vk0Civ8G",
        "outputId": "25795efe-dd42-48db-872a-f42b12d028d4"
      },
      "execution_count": 241,
      "outputs": [
        {
          "output_type": "stream",
          "name": "stdout",
          "text": [
            "Prediction: contradiction\n"
          ]
        },
        {
          "output_type": "display_data",
          "data": {
            "text/plain": [
              "<Figure size 2160x3600 with 2 Axes>"
            ],
            "image/png": "[encoded data removed]"
          },
          "metadata": {
            "needs_background": "light"
          }
        }
      ]
    },
    {
      "cell_type": "markdown",
      "source": [
        "```\n",
        "Premise,        Hypothesis,     True Label\n",
        "He was witnessed going, The man saw., neutral\n",
        "```"
      ],
      "metadata": {
        "id": "6x1zvj_OmE5V"
      }
    },
    {
      "cell_type": "code",
      "source": [
        "premise = \"He was witnessed going.\" \n",
        "hypothesis = \"The man saw.\"\n",
        "print(\"Prediction:\", get_prediction(\"/content/gdrive/MyDrive/ckpt20.pt\", premise, hypothesis)[0])\n",
        "scores = get_attentions(\"/content/gdrive/MyDrive/ckpt20.pt\", premise, hypothesis)\n",
        "visualize_token2head_scores(scores, premise, hypothesis)"
      ],
      "metadata": {
        "colab": {
          "base_uri": "https://localhost:8080/",
          "height": 727
        },
        "id": "HouwKOH7lmtl",
        "outputId": "8db8a043-08a0-4ebe-f378-e5662f8f17df"
      },
      "execution_count": 242,
      "outputs": [
        {
          "output_type": "stream",
          "name": "stdout",
          "text": [
            "Prediction: contradiction\n"
          ]
        },
        {
          "output_type": "display_data",
          "data": {
            "text/plain": [
              "<Figure size 2160x3600 with 2 Axes>"
            ],
            "image/png": "[encoded data removed]"
          },
          "metadata": {
            "needs_background": "light"
          }
        }
      ]
    },
    {
      "cell_type": "markdown",
      "source": [
        "TODO: In the former example, highest weights are put at \"He\" and \"saw\", as well as \"see\" and \"saw\", \"to\" and \"saw\" whereas in the latter example, the highest is at \"going\" and \"saw\", \"He\" and \"saw\". The change in word order causes the model to focus on different combinations of words. Here we changed the order of \"went/going\" and \"see/witnessed\" in the premise sentences with hypothesis unchanged, so that we changed the significant points to determine the prediction. The model adapts well to this example, it put weights on \"see\" and \"saw\" in the first example but put weights on \"going\" and \"saw\" in the second example instead of \"witnessed\" and \"saw\"."
      ],
      "metadata": {
        "id": "H1CRQdDLqFch"
      }
    },
    {
      "cell_type": "markdown",
      "source": [
        "Q3.1 (7 points): Randomly initialize the model and start training from scratch. Train\n",
        "for 3 epochs. On a fast GPU, this will be 1 minute per epoch, but it may be slower on\n",
        "older GPUs. Select an example from the training set and plot the attention weights of the\n",
        "model after the third epoch versus those of the fully trained model. Draw a figure of each\n",
        "of the attention weights and describe the difference."
      ],
      "metadata": {
        "id": "oqnBZRVegHpR"
      }
    },
    {
      "cell_type": "code",
      "source": [
        "pre, hypo, true_labels = train(\"ckpt3.pt\", epoch=3)"
      ],
      "metadata": {
        "colab": {
          "base_uri": "https://localhost:8080/"
        },
        "id": "tIJRJ4z8t2Sp",
        "outputId": "8d5bd21d-31f0-4119-ed23-c6bbaef606e1"
      },
      "execution_count": 260,
      "outputs": [
        {
          "output_type": "stream",
          "name": "stdout",
          "text": [
            "batch: 500, loss: 1.085152617931366\n",
            "batch: 1000, loss: 1.0017480759620667\n",
            "batch: 1500, loss: 0.9575727369785308\n",
            "batch: 2000, loss: 0.9424737205505371\n",
            "batch: 2500, loss: 0.9336189042329788\n",
            "batch: 3000, loss: 0.927016235947609\n",
            "batch: 3500, loss: 0.9225663571357727\n",
            "batch: 4000, loss: 0.9145926488637924\n",
            "epoch: 0, val loss: 0.9275315961280426\n",
            "batch: 500, loss: 0.9119501093626022\n",
            "batch: 1000, loss: 0.9056760100126267\n",
            "batch: 1500, loss: 0.9007017186880112\n",
            "batch: 2000, loss: 0.9015420235395432\n",
            "batch: 2500, loss: 0.8948997777700424\n",
            "batch: 3000, loss: 0.8896437711715698\n",
            "batch: 3500, loss: 0.8876000144481659\n",
            "batch: 4000, loss: 0.878269051194191\n",
            "epoch: 1, val loss: 0.880362360508411\n",
            "batch: 500, loss: 0.8766445044279099\n",
            "batch: 1000, loss: 0.8678416261672973\n",
            "batch: 1500, loss: 0.8643314611911773\n",
            "batch: 2000, loss: 0.8615302064418793\n",
            "batch: 2500, loss: 0.8583296874761581\n",
            "batch: 3000, loss: 0.8529194166660309\n",
            "batch: 3500, loss: 0.8512221426963806\n",
            "batch: 4000, loss: 0.8433645125627518\n",
            "epoch: 2, val loss: 0.8402690492667161\n"
          ]
        }
      ]
    },
    {
      "cell_type": "markdown",
      "source": [
        "```\n",
        "Premise,        Hypothesis,        True Label\n",
        "A kid with blond-hair is playing in balls and reaching up to grab someone's hand., An old woman fell into a ball pit., contradiction\n",
        "```"
      ],
      "metadata": {
        "id": "jWeP4bvl_flQ"
      }
    },
    {
      "cell_type": "code",
      "source": [
        "#Model after the third epoch\n",
        "premise = \"A kid with blond-hair is playing in balls and reaching up to grab someone's hand.\" \n",
        "hypothesis = \"An old woman fell into a ball pit.\"\n",
        "print(\"Prediction:\", get_prediction(\"ckpt3.pt\", premise, hypothesis)[0])\n",
        "scores = get_attentions(\"ckpt3.pt\", premise, hypothesis)\n",
        "visualize_token2head_scores(scores, premise, hypothesis)"
      ],
      "metadata": {
        "colab": {
          "base_uri": "https://localhost:8080/",
          "height": 678
        },
        "id": "nVF8WJGS_hpS",
        "outputId": "cbe1649c-abc5-4735-aeee-c70d28d7ddea"
      },
      "execution_count": 262,
      "outputs": [
        {
          "output_type": "stream",
          "name": "stdout",
          "text": [
            "Prediction: contradiction\n"
          ]
        },
        {
          "output_type": "display_data",
          "data": {
            "text/plain": [
              "<Figure size 2160x3600 with 2 Axes>"
            ],
            "image/png": "[encoded data removed]"
          },
          "metadata": {
            "needs_background": "light"
          }
        }
      ]
    },
    {
      "cell_type": "code",
      "source": [
        "#Fully trained model\n",
        "premise = \"A kid with blond-hair is playing in balls and reaching up to grab someone's hand.\" \n",
        "hypothesis = \"An old woman fell into a ball pit.\"\n",
        "print(\"Prediction:\", get_prediction(\"/content/gdrive/MyDrive/ckpt20.pt\", premise, hypothesis)[0])\n",
        "scores = get_attentions(\"/content/gdrive/MyDrive/ckpt20.pt\", premise, hypothesis)\n",
        "visualize_token2head_scores(scores, premise, hypothesis)"
      ],
      "metadata": {
        "colab": {
          "base_uri": "https://localhost:8080/",
          "height": 718
        },
        "id": "SkO9Cd4I_11C",
        "outputId": "6e42cc92-09c7-4c8a-f105-879146b82756"
      },
      "execution_count": 263,
      "outputs": [
        {
          "output_type": "stream",
          "name": "stdout",
          "text": [
            "Prediction: contradiction\n"
          ]
        },
        {
          "output_type": "display_data",
          "data": {
            "text/plain": [
              "<Figure size 2160x3600 with 2 Axes>"
            ],
            "image/png": "[encoded data removed]"
          },
          "metadata": {
            "needs_background": "light"
          }
        }
      ]
    },
    {
      "cell_type": "markdown",
      "source": [
        "TODO: We can see that in the graph of fully trained model, we have more high weights distributed, and there is a more obvious pattern showing which word is significant for prediction, for example, we can see that the row of \"fell\" contain higher weights whereas the row of \"old\", the column of \"is\" contain lower weights. This tells us that fully trained model is more aware of which words play an important role in navigating the meaning of the sentence to decide the relation between premise and hypothesis than the not fully trained model."
      ],
      "metadata": {
        "id": "BT_TmlqmgQm0"
      }
    },
    {
      "cell_type": "markdown",
      "source": [
        "# You're Done!\n",
        "\n",
        "You are finished. Print this notebook to a PDF and submit."
      ],
      "metadata": {
        "id": "qh0nMwE2qRIR"
      }
    }
  ]
}